{
 "cells": [
  {
   "cell_type": "markdown",
   "metadata": {},
   "source": [
    "# RDS Lab 7\n",
    "\n",
    "Put this Jupyter notebook into the root directory of the DataSynthesizer downloaded from [GitHub](https://github.com/DataResponsibly/DataSynthesizer).\n",
    "\n",
    "## Install DataSynthesizer"
   ]
  },
  {
   "cell_type": "code",
   "execution_count": 1,
   "metadata": {},
   "outputs": [
    {
     "name": "stdout",
     "output_type": "stream",
     "text": [
      "Adding into sys.path: /Users/hping/technion-files/DataSynthesizer-unstable/DataSynthesizer/\n"
     ]
    }
   ],
   "source": [
    "# Add the direcotry of DataSynthesizer into sys.path before importing the code\n",
    "import os, sys\n",
    "module_dir = os.getcwd() + '/DataSynthesizer/'\n",
    "sys.path.append(module_dir)\n",
    "\n",
    "print(f'Adding into sys.path: {module_dir}')"
   ]
  },
  {
   "cell_type": "code",
   "execution_count": 2,
   "metadata": {},
   "outputs": [],
   "source": [
    "from DataDescriber import DataDescriber\n",
    "from DataGenerator import DataGenerator\n",
    "from ModelInspector import ModelInspector"
   ]
  },
  {
   "cell_type": "code",
   "execution_count": 3,
   "metadata": {},
   "outputs": [],
   "source": [
    "describer = DataDescriber()\n",
    "generator = DataGenerator()"
   ]
  },
  {
   "cell_type": "markdown",
   "metadata": {},
   "source": [
    "## Modules and Parameters"
   ]
  },
  {
   "cell_type": "code",
   "execution_count": 4,
   "metadata": {},
   "outputs": [],
   "source": [
    "from lib.utils import read_json_file\n",
    "\n",
    "import json\n",
    "import pandas as pd\n",
    "import matplotlib.pyplot as plt\n",
    "%matplotlib inline"
   ]
  },
  {
   "cell_type": "code",
   "execution_count": 5,
   "metadata": {},
   "outputs": [],
   "source": [
    "sensitive_data_file = './data/adult_reduced.csv'\n",
    "description_files = {'random mode':                   './out/description(random).json', \n",
    "                     'independent attribute mode':    './out/description(independent).json', \n",
    "                     'correlated attribute mode':     './out/description(correlated).json'}\n",
    "synthetic_data_files = {'random mode':                './out/synthetic data(random).csv', \n",
    "                        'independent attribute mode': './out/synthetic data(independent).csv', \n",
    "                        'correlated attribute mode':  './out/synthetic data(correlated).csv'}\n",
    "\n",
    "\n",
    "output_data_size = 1000"
   ]
  },
  {
   "cell_type": "code",
   "execution_count": 6,
   "metadata": {},
   "outputs": [
    {
     "data": {
      "text/html": [
       "<div>\n",
       "<style scoped>\n",
       "    .dataframe tbody tr th:only-of-type {\n",
       "        vertical-align: middle;\n",
       "    }\n",
       "\n",
       "    .dataframe tbody tr th {\n",
       "        vertical-align: top;\n",
       "    }\n",
       "\n",
       "    .dataframe thead th {\n",
       "        text-align: right;\n",
       "    }\n",
       "</style>\n",
       "<table border=\"1\" class=\"dataframe\">\n",
       "  <thead>\n",
       "    <tr style=\"text-align: right;\">\n",
       "      <th></th>\n",
       "      <th>age</th>\n",
       "      <th>education</th>\n",
       "      <th>sex</th>\n",
       "      <th>relationship</th>\n",
       "      <th>marital-status</th>\n",
       "      <th>income</th>\n",
       "    </tr>\n",
       "  </thead>\n",
       "  <tbody>\n",
       "    <tr>\n",
       "      <th>0</th>\n",
       "      <td>39</td>\n",
       "      <td>Bachelors</td>\n",
       "      <td>Male</td>\n",
       "      <td>Not-in-family</td>\n",
       "      <td>Never-married</td>\n",
       "      <td>&lt;=50K</td>\n",
       "    </tr>\n",
       "    <tr>\n",
       "      <th>1</th>\n",
       "      <td>50</td>\n",
       "      <td>Bachelors</td>\n",
       "      <td>Male</td>\n",
       "      <td>Husband</td>\n",
       "      <td>Married-civ-spouse</td>\n",
       "      <td>&lt;=50K</td>\n",
       "    </tr>\n",
       "    <tr>\n",
       "      <th>2</th>\n",
       "      <td>38</td>\n",
       "      <td>HS-grad</td>\n",
       "      <td>Male</td>\n",
       "      <td>Not-in-family</td>\n",
       "      <td>Divorced</td>\n",
       "      <td>&lt;=50K</td>\n",
       "    </tr>\n",
       "    <tr>\n",
       "      <th>3</th>\n",
       "      <td>53</td>\n",
       "      <td>11th</td>\n",
       "      <td>Male</td>\n",
       "      <td>Husband</td>\n",
       "      <td>Married-civ-spouse</td>\n",
       "      <td>&lt;=50K</td>\n",
       "    </tr>\n",
       "    <tr>\n",
       "      <th>4</th>\n",
       "      <td>28</td>\n",
       "      <td>Bachelors</td>\n",
       "      <td>Female</td>\n",
       "      <td>Wife</td>\n",
       "      <td>Married-civ-spouse</td>\n",
       "      <td>&lt;=50K</td>\n",
       "    </tr>\n",
       "  </tbody>\n",
       "</table>\n",
       "</div>"
      ],
      "text/plain": [
       "   age  education     sex   relationship      marital-status income\n",
       "0   39  Bachelors    Male  Not-in-family       Never-married  <=50K\n",
       "1   50  Bachelors    Male        Husband  Married-civ-spouse  <=50K\n",
       "2   38    HS-grad    Male  Not-in-family            Divorced  <=50K\n",
       "3   53       11th    Male        Husband  Married-civ-spouse  <=50K\n",
       "4   28  Bachelors  Female           Wife  Married-civ-spouse  <=50K"
      ]
     },
     "execution_count": 6,
     "metadata": {},
     "output_type": "execute_result"
    }
   ],
   "source": [
    "real_data = pd.read_csv(sensitive_data_file)\n",
    "real_data.head()"
   ]
  },
  {
   "cell_type": "markdown",
   "metadata": {},
   "source": [
    "## Random mode"
   ]
  },
  {
   "cell_type": "code",
   "execution_count": 7,
   "metadata": {},
   "outputs": [],
   "source": [
    "describer.describe_dataset_in_random_mode(sensitive_data_file)"
   ]
  },
  {
   "cell_type": "code",
   "execution_count": 8,
   "metadata": {},
   "outputs": [],
   "source": [
    "describer.save_dataset_description_to_file(description_files['random mode'])"
   ]
  },
  {
   "cell_type": "markdown",
   "metadata": {},
   "source": [
    "#### Important parameters here\n",
    "\n",
    "- __seed__: initialize the random number generator for both `random` and `np.random`\n",
    "- __mininum__, __maxmimum__: hide the min/max informtion in the sensitive data "
   ]
  },
  {
   "cell_type": "code",
   "execution_count": 9,
   "metadata": {},
   "outputs": [],
   "source": [
    "generator.generate_dataset_in_random_mode(n=output_data_size, \n",
    "                                          description_file=description_files['random mode'], \n",
    "                                          seed=0, \n",
    "                                          minimum=0, \n",
    "                                          maximum=100)"
   ]
  },
  {
   "cell_type": "code",
   "execution_count": 10,
   "metadata": {},
   "outputs": [],
   "source": [
    "generator.save_synthetic_data(synthetic_data_files['random mode'])"
   ]
  },
  {
   "cell_type": "code",
   "execution_count": 11,
   "metadata": {},
   "outputs": [],
   "source": [
    "synthetic_random = pd.read_csv(synthetic_data_files['random mode'])"
   ]
  },
  {
   "cell_type": "code",
   "execution_count": 12,
   "metadata": {},
   "outputs": [
    {
     "data": {
      "text/html": [
       "<div>\n",
       "<style scoped>\n",
       "    .dataframe tbody tr th:only-of-type {\n",
       "        vertical-align: middle;\n",
       "    }\n",
       "\n",
       "    .dataframe tbody tr th {\n",
       "        vertical-align: top;\n",
       "    }\n",
       "\n",
       "    .dataframe thead th {\n",
       "        text-align: right;\n",
       "    }\n",
       "</style>\n",
       "<table border=\"1\" class=\"dataframe\">\n",
       "  <thead>\n",
       "    <tr style=\"text-align: right;\">\n",
       "      <th></th>\n",
       "      <th>age</th>\n",
       "      <th>education</th>\n",
       "      <th>sex</th>\n",
       "      <th>relationship</th>\n",
       "      <th>marital-status</th>\n",
       "      <th>income</th>\n",
       "    </tr>\n",
       "  </thead>\n",
       "  <tbody>\n",
       "    <tr>\n",
       "      <th>0</th>\n",
       "      <td>39</td>\n",
       "      <td>Bachelors</td>\n",
       "      <td>Male</td>\n",
       "      <td>Not-in-family</td>\n",
       "      <td>Never-married</td>\n",
       "      <td>&lt;=50K</td>\n",
       "    </tr>\n",
       "    <tr>\n",
       "      <th>1</th>\n",
       "      <td>50</td>\n",
       "      <td>Bachelors</td>\n",
       "      <td>Male</td>\n",
       "      <td>Husband</td>\n",
       "      <td>Married-civ-spouse</td>\n",
       "      <td>&lt;=50K</td>\n",
       "    </tr>\n",
       "    <tr>\n",
       "      <th>2</th>\n",
       "      <td>38</td>\n",
       "      <td>HS-grad</td>\n",
       "      <td>Male</td>\n",
       "      <td>Not-in-family</td>\n",
       "      <td>Divorced</td>\n",
       "      <td>&lt;=50K</td>\n",
       "    </tr>\n",
       "    <tr>\n",
       "      <th>3</th>\n",
       "      <td>53</td>\n",
       "      <td>11th</td>\n",
       "      <td>Male</td>\n",
       "      <td>Husband</td>\n",
       "      <td>Married-civ-spouse</td>\n",
       "      <td>&lt;=50K</td>\n",
       "    </tr>\n",
       "    <tr>\n",
       "      <th>4</th>\n",
       "      <td>28</td>\n",
       "      <td>Bachelors</td>\n",
       "      <td>Female</td>\n",
       "      <td>Wife</td>\n",
       "      <td>Married-civ-spouse</td>\n",
       "      <td>&lt;=50K</td>\n",
       "    </tr>\n",
       "  </tbody>\n",
       "</table>\n",
       "</div>"
      ],
      "text/plain": [
       "   age  education     sex   relationship      marital-status income\n",
       "0   39  Bachelors    Male  Not-in-family       Never-married  <=50K\n",
       "1   50  Bachelors    Male        Husband  Married-civ-spouse  <=50K\n",
       "2   38    HS-grad    Male  Not-in-family            Divorced  <=50K\n",
       "3   53       11th    Male        Husband  Married-civ-spouse  <=50K\n",
       "4   28  Bachelors  Female           Wife  Married-civ-spouse  <=50K"
      ]
     },
     "execution_count": 12,
     "metadata": {},
     "output_type": "execute_result"
    }
   ],
   "source": [
    "real_data.head()"
   ]
  },
  {
   "cell_type": "code",
   "execution_count": 13,
   "metadata": {},
   "outputs": [
    {
     "data": {
      "text/html": [
       "<div>\n",
       "<style scoped>\n",
       "    .dataframe tbody tr th:only-of-type {\n",
       "        vertical-align: middle;\n",
       "    }\n",
       "\n",
       "    .dataframe tbody tr th {\n",
       "        vertical-align: top;\n",
       "    }\n",
       "\n",
       "    .dataframe thead th {\n",
       "        text-align: right;\n",
       "    }\n",
       "</style>\n",
       "<table border=\"1\" class=\"dataframe\">\n",
       "  <thead>\n",
       "    <tr style=\"text-align: right;\">\n",
       "      <th></th>\n",
       "      <th>age</th>\n",
       "      <th>education</th>\n",
       "      <th>sex</th>\n",
       "      <th>relationship</th>\n",
       "      <th>marital-status</th>\n",
       "      <th>income</th>\n",
       "    </tr>\n",
       "  </thead>\n",
       "  <tbody>\n",
       "    <tr>\n",
       "      <th>0</th>\n",
       "      <td>44</td>\n",
       "      <td>Preschool</td>\n",
       "      <td>Male</td>\n",
       "      <td>Husband</td>\n",
       "      <td>Married-civ-spouse</td>\n",
       "      <td>&lt;=50K</td>\n",
       "    </tr>\n",
       "    <tr>\n",
       "      <th>1</th>\n",
       "      <td>47</td>\n",
       "      <td>Some-college</td>\n",
       "      <td>Female</td>\n",
       "      <td>Husband</td>\n",
       "      <td>Separated</td>\n",
       "      <td>&gt;50K</td>\n",
       "    </tr>\n",
       "    <tr>\n",
       "      <th>2</th>\n",
       "      <td>64</td>\n",
       "      <td>Assoc-acdm</td>\n",
       "      <td>Female</td>\n",
       "      <td>Not-in-family</td>\n",
       "      <td>Separated</td>\n",
       "      <td>&lt;=50K</td>\n",
       "    </tr>\n",
       "    <tr>\n",
       "      <th>3</th>\n",
       "      <td>67</td>\n",
       "      <td>Masters</td>\n",
       "      <td>Male</td>\n",
       "      <td>Other-relative</td>\n",
       "      <td>Married-civ-spouse</td>\n",
       "      <td>&lt;=50K</td>\n",
       "    </tr>\n",
       "    <tr>\n",
       "      <th>4</th>\n",
       "      <td>67</td>\n",
       "      <td>12th</td>\n",
       "      <td>Male</td>\n",
       "      <td>Own-child</td>\n",
       "      <td>Never-married</td>\n",
       "      <td>&gt;50K</td>\n",
       "    </tr>\n",
       "  </tbody>\n",
       "</table>\n",
       "</div>"
      ],
      "text/plain": [
       "   age     education     sex    relationship      marital-status income\n",
       "0   44     Preschool    Male         Husband  Married-civ-spouse  <=50K\n",
       "1   47  Some-college  Female         Husband           Separated   >50K\n",
       "2   64    Assoc-acdm  Female   Not-in-family           Separated  <=50K\n",
       "3   67       Masters    Male  Other-relative  Married-civ-spouse  <=50K\n",
       "4   67          12th    Male       Own-child       Never-married   >50K"
      ]
     },
     "execution_count": 13,
     "metadata": {},
     "output_type": "execute_result"
    }
   ],
   "source": [
    "synthetic_random.head()"
   ]
  },
  {
   "cell_type": "code",
   "execution_count": 14,
   "metadata": {},
   "outputs": [
    {
     "data": {
      "image/png": "[encoded data removed]",
      "text/plain": [
       "<Figure size 800x300 with 2 Axes>"
      ]
     },
     "metadata": {
      "needs_background": "light"
     },
     "output_type": "display_data"
    }
   ],
   "source": [
    "fig, axes = plt.subplots(1, 2, figsize=(8,3), dpi=100)\n",
    "axes[0].hist(real_data['age'])\n",
    "axes[1].hist(synthetic_random['age'])\n",
    "axes[0].set_xlabel('age')\n",
    "axes[1].set_xlabel('age')\n",
    "axes[0].set_title('real data')\n",
    "axes[1].set_title('random mode');"
   ]
  },
  {
   "cell_type": "code",
   "execution_count": 15,
   "metadata": {},
   "outputs": [
    {
     "data": {
      "text/html": [
       "<div>\n",
       "<style scoped>\n",
       "    .dataframe tbody tr th:only-of-type {\n",
       "        vertical-align: middle;\n",
       "    }\n",
       "\n",
       "    .dataframe tbody tr th {\n",
       "        vertical-align: top;\n",
       "    }\n",
       "\n",
       "    .dataframe thead th {\n",
       "        text-align: right;\n",
       "    }\n",
       "</style>\n",
       "<table border=\"1\" class=\"dataframe\">\n",
       "  <thead>\n",
       "    <tr style=\"text-align: right;\">\n",
       "      <th></th>\n",
       "      <th>relationship_real</th>\n",
       "      <th>relationship_random_mode</th>\n",
       "    </tr>\n",
       "  </thead>\n",
       "  <tbody>\n",
       "    <tr>\n",
       "      <th>Husband</th>\n",
       "      <td>13193</td>\n",
       "      <td>156</td>\n",
       "    </tr>\n",
       "    <tr>\n",
       "      <th>Not-in-family</th>\n",
       "      <td>8305</td>\n",
       "      <td>159</td>\n",
       "    </tr>\n",
       "    <tr>\n",
       "      <th>Own-child</th>\n",
       "      <td>5068</td>\n",
       "      <td>189</td>\n",
       "    </tr>\n",
       "    <tr>\n",
       "      <th>Unmarried</th>\n",
       "      <td>3446</td>\n",
       "      <td>165</td>\n",
       "    </tr>\n",
       "    <tr>\n",
       "      <th>Wife</th>\n",
       "      <td>1568</td>\n",
       "      <td>166</td>\n",
       "    </tr>\n",
       "    <tr>\n",
       "      <th>Other-relative</th>\n",
       "      <td>981</td>\n",
       "      <td>165</td>\n",
       "    </tr>\n",
       "  </tbody>\n",
       "</table>\n",
       "</div>"
      ],
      "text/plain": [
       "                relationship_real  relationship_random_mode\n",
       "Husband                     13193                       156\n",
       "Not-in-family                8305                       159\n",
       "Own-child                    5068                       189\n",
       "Unmarried                    3446                       165\n",
       "Wife                         1568                       166\n",
       "Other-relative                981                       165"
      ]
     },
     "execution_count": 15,
     "metadata": {},
     "output_type": "execute_result"
    }
   ],
   "source": [
    "relationship_real = real_data['relationship'].value_counts()\n",
    "relationship_random = synthetic_random['relationship'].value_counts()\n",
    "relationship_both = pd.merge(relationship_real.to_frame(), \n",
    "                             relationship_random.to_frame(), \n",
    "                             left_index=True, \n",
    "                             right_index=True, \n",
    "                             suffixes=('_real', '_random_mode'))\n",
    "relationship_both"
   ]
  },
  {
   "cell_type": "code",
   "execution_count": 16,
   "metadata": {},
   "outputs": [
    {
     "data": {
      "image/png": "[encoded data removed]",
      "text/plain": [
       "<Figure size 720x360 with 2 Axes>"
      ]
     },
     "metadata": {
      "needs_background": "light"
     },
     "output_type": "display_data"
    }
   ],
   "source": [
    "fig, axes = plt.subplots(1, 2, figsize=(6,3), dpi=120)\n",
    "axes[0].bar(relationship_both.index, relationship_both['relationship_real'])\n",
    "axes[1].bar(relationship_both.index, relationship_both['relationship_random_mode'])\n",
    "axes[0].set_title('real data')\n",
    "axes[1].set_title('random mode')\n",
    "fig.autofmt_xdate()"
   ]
  },
  {
   "cell_type": "code",
   "execution_count": 17,
   "metadata": {},
   "outputs": [],
   "source": [
    "description_json = read_json_file(description_files['random mode'])"
   ]
  },
  {
   "cell_type": "code",
   "execution_count": 18,
   "metadata": {},
   "outputs": [
    {
     "data": {
      "text/plain": [
       "dict_keys(['meta', 'attribute_description'])"
      ]
     },
     "execution_count": 18,
     "metadata": {},
     "output_type": "execute_result"
    }
   ],
   "source": [
    "description_json.keys()"
   ]
  },
  {
   "cell_type": "code",
   "execution_count": 19,
   "metadata": {},
   "outputs": [
    {
     "name": "stdout",
     "output_type": "stream",
     "text": [
      "{\n",
      "    \"name\": \"relationship\",\n",
      "    \"data_type\": \"String\",\n",
      "    \"is_categorical\": true,\n",
      "    \"is_candidate_key\": false,\n",
      "    \"min\": 4,\n",
      "    \"max\": 14,\n",
      "    \"missing_rate\": 0.0,\n",
      "    \"distribution_bins\": [\n",
      "        \"Not-in-family\",\n",
      "        \"Husband\",\n",
      "        \"Wife\",\n",
      "        \"Own-child\",\n",
      "        \"Unmarried\",\n",
      "        \"Other-relative\"\n",
      "    ],\n",
      "    \"distribution_probabilities\": [\n",
      "        0.16666666666666666,\n",
      "        0.16666666666666666,\n",
      "        0.16666666666666666,\n",
      "        0.16666666666666666,\n",
      "        0.16666666666666666,\n",
      "        0.16666666666666666\n",
      "    ]\n",
      "}\n"
     ]
    }
   ],
   "source": [
    "print(json.dumps(description_json['attribute_description']['relationship'], indent=4))"
   ]
  },
  {
   "cell_type": "markdown",
   "metadata": {},
   "source": [
    "## Independent attribute mode"
   ]
  },
  {
   "cell_type": "code",
   "execution_count": 20,
   "metadata": {},
   "outputs": [],
   "source": [
    "describer.describe_dataset_in_independent_attribute_mode(sensitive_data_file, epsilon=0.1)"
   ]
  },
  {
   "cell_type": "code",
   "execution_count": 21,
   "metadata": {},
   "outputs": [],
   "source": [
    "describer.save_dataset_description_to_file(description_files['independent attribute mode'])"
   ]
  },
  {
   "cell_type": "code",
   "execution_count": 22,
   "metadata": {},
   "outputs": [],
   "source": [
    "generator.generate_dataset_in_independent_mode(n=output_data_size, \n",
    "                                               description_file=description_files['independent attribute mode'], \n",
    "                                               seed=0)"
   ]
  },
  {
   "cell_type": "code",
   "execution_count": 23,
   "metadata": {},
   "outputs": [],
   "source": [
    "generator.save_synthetic_data(synthetic_data_files['independent attribute mode'])"
   ]
  },
  {
   "cell_type": "code",
   "execution_count": 24,
   "metadata": {},
   "outputs": [],
   "source": [
    "synthetic_independent = pd.read_csv(synthetic_data_files['independent attribute mode'])"
   ]
  },
  {
   "cell_type": "code",
   "execution_count": 25,
   "metadata": {},
   "outputs": [
    {
     "data": {
      "text/html": [
       "<div>\n",
       "<style scoped>\n",
       "    .dataframe tbody tr th:only-of-type {\n",
       "        vertical-align: middle;\n",
       "    }\n",
       "\n",
       "    .dataframe tbody tr th {\n",
       "        vertical-align: top;\n",
       "    }\n",
       "\n",
       "    .dataframe thead th {\n",
       "        text-align: right;\n",
       "    }\n",
       "</style>\n",
       "<table border=\"1\" class=\"dataframe\">\n",
       "  <thead>\n",
       "    <tr style=\"text-align: right;\">\n",
       "      <th></th>\n",
       "      <th>age</th>\n",
       "      <th>education</th>\n",
       "      <th>sex</th>\n",
       "      <th>relationship</th>\n",
       "      <th>marital-status</th>\n",
       "      <th>income</th>\n",
       "    </tr>\n",
       "  </thead>\n",
       "  <tbody>\n",
       "    <tr>\n",
       "      <th>0</th>\n",
       "      <td>42.0</td>\n",
       "      <td>HS-grad</td>\n",
       "      <td>Male</td>\n",
       "      <td>Not-in-family</td>\n",
       "      <td>Married-civ-spouse</td>\n",
       "      <td>&lt;=50K</td>\n",
       "    </tr>\n",
       "    <tr>\n",
       "      <th>1</th>\n",
       "      <td>45.0</td>\n",
       "      <td>10th</td>\n",
       "      <td>Male</td>\n",
       "      <td>Not-in-family</td>\n",
       "      <td>Married-civ-spouse</td>\n",
       "      <td>&lt;=50K</td>\n",
       "    </tr>\n",
       "    <tr>\n",
       "      <th>2</th>\n",
       "      <td>40.0</td>\n",
       "      <td>HS-grad</td>\n",
       "      <td>Male</td>\n",
       "      <td>Own-child</td>\n",
       "      <td>Divorced</td>\n",
       "      <td>&lt;=50K</td>\n",
       "    </tr>\n",
       "    <tr>\n",
       "      <th>3</th>\n",
       "      <td>36.0</td>\n",
       "      <td>HS-grad</td>\n",
       "      <td>Female</td>\n",
       "      <td>Unmarried</td>\n",
       "      <td>Married-civ-spouse</td>\n",
       "      <td>&lt;=50K</td>\n",
       "    </tr>\n",
       "    <tr>\n",
       "      <th>4</th>\n",
       "      <td>33.0</td>\n",
       "      <td>11th</td>\n",
       "      <td>Male</td>\n",
       "      <td>Own-child</td>\n",
       "      <td>Divorced</td>\n",
       "      <td>&lt;=50K</td>\n",
       "    </tr>\n",
       "  </tbody>\n",
       "</table>\n",
       "</div>"
      ],
      "text/plain": [
       "    age education     sex   relationship      marital-status income\n",
       "0  42.0   HS-grad    Male  Not-in-family  Married-civ-spouse  <=50K\n",
       "1  45.0      10th    Male  Not-in-family  Married-civ-spouse  <=50K\n",
       "2  40.0   HS-grad    Male      Own-child            Divorced  <=50K\n",
       "3  36.0   HS-grad  Female      Unmarried  Married-civ-spouse  <=50K\n",
       "4  33.0      11th    Male      Own-child            Divorced  <=50K"
      ]
     },
     "execution_count": 25,
     "metadata": {},
     "output_type": "execute_result"
    }
   ],
   "source": [
    "synthetic_independent.head()"
   ]
  },
  {
   "cell_type": "code",
   "execution_count": 26,
   "metadata": {},
   "outputs": [
    {
     "data": {
      "image/png": "[encoded data removed]",
      "text/plain": [
       "<Figure size 800x300 with 2 Axes>"
      ]
     },
     "metadata": {
      "needs_background": "light"
     },
     "output_type": "display_data"
    }
   ],
   "source": [
    "fig, axes = plt.subplots(1, 2, figsize=(8,3), dpi=100)\n",
    "axes[0].hist(real_data['age'])\n",
    "axes[1].hist(synthetic_independent['age'])\n",
    "axes[0].set_xlabel('age')\n",
    "axes[1].set_xlabel('age')\n",
    "axes[0].set_title('real data')\n",
    "axes[1].set_title('independent attribute mode');"
   ]
  },
  {
   "cell_type": "code",
   "execution_count": 27,
   "metadata": {},
   "outputs": [
    {
     "data": {
      "image/png": "[encoded data removed]",
      "text/plain": [
       "<Figure size 720x360 with 2 Axes>"
      ]
     },
     "metadata": {
      "needs_background": "light"
     },
     "output_type": "display_data"
    }
   ],
   "source": [
    "relationship_real = real_data['relationship'].value_counts()\n",
    "relationship_independent = synthetic_independent['relationship'].value_counts()\n",
    "relationship_both = pd.merge(relationship_real.to_frame(), \n",
    "                             relationship_independent.to_frame(), \n",
    "                             left_index=True, \n",
    "                             right_index=True, \n",
    "                             suffixes=('_real', '_independent_attribute_mode'))\n",
    "\n",
    "fig, axes = plt.subplots(1, 2, figsize=(6,3), dpi=120)\n",
    "axes[0].bar(relationship_both.index, relationship_both['relationship_real'])\n",
    "axes[1].bar(relationship_both.index, relationship_both['relationship_independent_attribute_mode'])\n",
    "axes[0].set_title('real data')\n",
    "axes[1].set_title('independent attribute mode')\n",
    "fig.autofmt_xdate()"
   ]
  },
  {
   "cell_type": "markdown",
   "metadata": {},
   "source": [
    "## Correlated attribute mode"
   ]
  },
  {
   "cell_type": "code",
   "execution_count": 28,
   "metadata": {},
   "outputs": [
    {
     "name": "stdout",
     "output_type": "stream",
     "text": [
      "================ Constructing Bayesian Network (BN) ================\n",
      "Adding ROOT income\n",
      "Adding attribute age\n",
      "Adding attribute relationship\n",
      "Adding attribute marital-status\n",
      "Adding attribute sex\n",
      "Adding attribute education\n",
      "========================== BN constructed ==========================\n"
     ]
    }
   ],
   "source": [
    "describer.describe_dataset_in_correlated_attribute_mode(sensitive_data_file, \n",
    "                                                        epsilon=0.1, \n",
    "                                                        k=2)"
   ]
  },
  {
   "cell_type": "code",
   "execution_count": 29,
   "metadata": {},
   "outputs": [],
   "source": [
    "from lib.utils import display_bayesian_network"
   ]
  },
  {
   "cell_type": "code",
   "execution_count": 30,
   "metadata": {},
   "outputs": [
    {
     "name": "stdout",
     "output_type": "stream",
     "text": [
      "Constructed Bayesian network:\n",
      "    age            has parents ['income'].\n",
      "    relationship   has parents ['age', 'income'].\n",
      "    marital-status has parents ['relationship', 'age'].\n",
      "    sex            has parents ['relationship', 'age'].\n",
      "    education      has parents ['marital-status', 'age'].\n"
     ]
    }
   ],
   "source": [
    "display_bayesian_network(describer.bayesian_network)"
   ]
  },
  {
   "cell_type": "code",
   "execution_count": 31,
   "metadata": {},
   "outputs": [],
   "source": [
    "describer.save_dataset_description_to_file(description_files['correlated attribute mode'])"
   ]
  },
  {
   "cell_type": "code",
   "execution_count": 32,
   "metadata": {},
   "outputs": [],
   "source": [
    "generator.generate_dataset_in_correlated_attribute_mode(n=output_data_size, \n",
    "                                                        description_file=description_files['correlated attribute mode'],\n",
    "                                                        seed=0)"
   ]
  },
  {
   "cell_type": "code",
   "execution_count": 33,
   "metadata": {},
   "outputs": [],
   "source": [
    "generator.save_synthetic_data(synthetic_data_files['correlated attribute mode'])"
   ]
  },
  {
   "cell_type": "code",
   "execution_count": 34,
   "metadata": {},
   "outputs": [],
   "source": [
    "synthetic_correlated = pd.read_csv(synthetic_data_files['correlated attribute mode'])"
   ]
  },
  {
   "cell_type": "code",
   "execution_count": 35,
   "metadata": {},
   "outputs": [
    {
     "data": {
      "image/png": "[encoded data removed]",
      "text/plain": [
       "<Figure size 800x300 with 2 Axes>"
      ]
     },
     "metadata": {
      "needs_background": "light"
     },
     "output_type": "display_data"
    }
   ],
   "source": [
    "fig, axes = plt.subplots(1, 2, figsize=(8,3), dpi=100)\n",
    "axes[0].hist(real_data['age'])\n",
    "axes[1].hist(synthetic_correlated['age'])\n",
    "axes[0].set_xlabel('age')\n",
    "axes[1].set_xlabel('age')\n",
    "axes[0].set_title('real data')\n",
    "axes[1].set_title('correlated attribute mode');"
   ]
  },
  {
   "cell_type": "code",
   "execution_count": 36,
   "metadata": {},
   "outputs": [
    {
     "data": {
      "image/png": "[encoded data removed]",
      "text/plain": [
       "<Figure size 720x360 with 2 Axes>"
      ]
     },
     "metadata": {
      "needs_background": "light"
     },
     "output_type": "display_data"
    }
   ],
   "source": [
    "relationship_real = real_data['relationship'].value_counts()\n",
    "relationship_correlated = synthetic_correlated['relationship'].value_counts()\n",
    "relationship_both = pd.merge(relationship_real.to_frame(), \n",
    "                             relationship_correlated.to_frame(), \n",
    "                             left_index=True, \n",
    "                             right_index=True, \n",
    "                             suffixes=('_real', '_correlated_attribute_mode'))\n",
    "\n",
    "fig, axes = plt.subplots(1, 2, figsize=(6,3), dpi=120)\n",
    "axes[0].bar(relationship_both.index, relationship_both['relationship_real'])\n",
    "axes[1].bar(relationship_both.index, relationship_both['relationship_correlated_attribute_mode'])\n",
    "axes[0].set_title('real data')\n",
    "axes[1].set_title('correlated attribute mode')\n",
    "fig.autofmt_xdate()"
   ]
  },
  {
   "cell_type": "code",
   "execution_count": 37,
   "metadata": {},
   "outputs": [
    {
     "data": {
      "image/png": "[encoded data removed]",
      "text/plain": [
       "<Figure size 1800x720 with 4 Axes>"
      ]
     },
     "metadata": {
      "needs_background": "light"
     },
     "output_type": "display_data"
    }
   ],
   "source": [
    "attribute_description = read_json_file(description_files['correlated attribute mode'])['attribute_description']\n",
    "ModelInspector(real_data, \n",
    "               synthetic_correlated, \n",
    "               attribute_description).mutual_information_heatmap()"
   ]
  },
  {
   "cell_type": "markdown",
   "metadata": {},
   "source": [
    "## Statistical measures\n",
    "\n",
    "### Mutual information"
   ]
  },
  {
   "cell_type": "code",
   "execution_count": 38,
   "metadata": {},
   "outputs": [],
   "source": [
    "from sklearn.metrics import normalized_mutual_info_score"
   ]
  },
  {
   "cell_type": "code",
   "execution_count": 39,
   "metadata": {},
   "outputs": [
    {
     "data": {
      "text/plain": [
       "0.5249037668258572"
      ]
     },
     "execution_count": 39,
     "metadata": {},
     "output_type": "execute_result"
    }
   ],
   "source": [
    "normalized_mutual_info_score(real_data['marital-status'], \n",
    "                             real_data['relationship'], \n",
    "                             average_method='arithmetic')"
   ]
  },
  {
   "cell_type": "code",
   "execution_count": 40,
   "metadata": {},
   "outputs": [
    {
     "data": {
      "text/plain": [
       "0.014483450445067415"
      ]
     },
     "execution_count": 40,
     "metadata": {},
     "output_type": "execute_result"
    }
   ],
   "source": [
    "normalized_mutual_info_score(real_data['marital-status'], \n",
    "                             real_data['education'], \n",
    "                             average_method='arithmetic')"
   ]
  },
  {
   "cell_type": "markdown",
   "metadata": {},
   "source": [
    "### Two-sample Kolmogorov–Smirnov test"
   ]
  },
  {
   "cell_type": "code",
   "execution_count": 41,
   "metadata": {},
   "outputs": [],
   "source": [
    "from scipy.stats import ks_2samp"
   ]
  },
  {
   "cell_type": "code",
   "execution_count": 42,
   "metadata": {},
   "outputs": [],
   "source": [
    "def ks_test(df_in: pd.DataFrame, df_out: pd.DataFrame, attr: str):\n",
    "    \"\"\"\n",
    "    df_in: the sensitive dataset\n",
    "    df_out: the synthetic dataset\n",
    "    attr: the attribute that will be calculated for Two-sample Kolmogorov–Smirnov test.\n",
    "    \"\"\"\n",
    "    return ks_2samp(df_in[attr], df_out[attr])[0]"
   ]
  },
  {
   "cell_type": "code",
   "execution_count": 43,
   "metadata": {},
   "outputs": [
    {
     "data": {
      "text/plain": [
       "0.33259405423666355"
      ]
     },
     "execution_count": 43,
     "metadata": {},
     "output_type": "execute_result"
    }
   ],
   "source": [
    "ks_test(real_data, synthetic_random, 'age')"
   ]
  },
  {
   "cell_type": "code",
   "execution_count": 44,
   "metadata": {},
   "outputs": [
    {
     "data": {
      "text/plain": [
       "0.04653290746598687"
      ]
     },
     "execution_count": 44,
     "metadata": {},
     "output_type": "execute_result"
    }
   ],
   "source": [
    "ks_test(real_data, synthetic_independent, 'age')"
   ]
  },
  {
   "cell_type": "code",
   "execution_count": 45,
   "metadata": {},
   "outputs": [
    {
     "data": {
      "text/plain": [
       "0.034914130401400456"
      ]
     },
     "execution_count": 45,
     "metadata": {},
     "output_type": "execute_result"
    }
   ],
   "source": [
    "ks_test(real_data, synthetic_correlated, 'age')"
   ]
  },
  {
   "cell_type": "markdown",
   "metadata": {},
   "source": [
    "### KL-divergence"
   ]
  },
  {
   "cell_type": "code",
   "execution_count": 46,
   "metadata": {},
   "outputs": [],
   "source": [
    "from scipy.stats import entropy"
   ]
  },
  {
   "cell_type": "code",
   "execution_count": 47,
   "metadata": {},
   "outputs": [],
   "source": [
    "def get_distribution_of_categorical_attribute(attribute: pd.Series, indicies=None):\n",
    "    distribution = attribute.dropna().value_counts()\n",
    "    if indicies is not None:\n",
    "        for idx in set(indicies) - set(distribution.index):\n",
    "            distribution.loc[idx] = 0\n",
    "    distribution.sort_index(inplace=True)\n",
    "    return distribution/sum(distribution)\n",
    "\n",
    "def kl_test(df_in: pd.DataFrame, df_out: pd.DataFrame, attr: str):\n",
    "    \"\"\"\n",
    "    df_in: the sensitive dataset\n",
    "    df_out: the synthetic dataset\n",
    "    attr: the attribute that will be calculated for KL-divergence.\n",
    "    \"\"\"\n",
    "    distribution_in = get_distribution_of_categorical_attribute(df_in[attr])\n",
    "    distribution_out = get_distribution_of_categorical_attribute(df_out[attr], distribution_in.index)\n",
    "    return entropy(distribution_out, distribution_in)"
   ]
  },
  {
   "cell_type": "code",
   "execution_count": 48,
   "metadata": {},
   "outputs": [
    {
     "data": {
      "text/plain": [
       "0.37194502301936416"
      ]
     },
     "execution_count": 48,
     "metadata": {},
     "output_type": "execute_result"
    }
   ],
   "source": [
    "kl_test(real_data, synthetic_random, 'relationship')"
   ]
  },
  {
   "cell_type": "code",
   "execution_count": 49,
   "metadata": {},
   "outputs": [
    {
     "data": {
      "text/plain": [
       "0.004852757128718812"
      ]
     },
     "execution_count": 49,
     "metadata": {},
     "output_type": "execute_result"
    }
   ],
   "source": [
    "kl_test(real_data, synthetic_independent, 'relationship')"
   ]
  },
  {
   "cell_type": "code",
   "execution_count": 50,
   "metadata": {},
   "outputs": [
    {
     "data": {
      "text/plain": [
       "0.0023945420264870447"
      ]
     },
     "execution_count": 50,
     "metadata": {},
     "output_type": "execute_result"
    }
   ],
   "source": [
    "kl_test(real_data, synthetic_correlated, 'relationship')"
   ]
  },
  {
   "cell_type": "markdown",
   "metadata": {},
   "source": [
    "### Boxplot"
   ]
  },
  {
   "cell_type": "code",
   "execution_count": 51,
   "metadata": {},
   "outputs": [],
   "source": [
    "import seaborn as sns"
   ]
  },
  {
   "cell_type": "code",
   "execution_count": 52,
   "metadata": {},
   "outputs": [
    {
     "data": {
      "text/html": [
       "<div>\n",
       "<style scoped>\n",
       "    .dataframe tbody tr th:only-of-type {\n",
       "        vertical-align: middle;\n",
       "    }\n",
       "\n",
       "    .dataframe tbody tr th {\n",
       "        vertical-align: top;\n",
       "    }\n",
       "\n",
       "    .dataframe thead th {\n",
       "        text-align: right;\n",
       "    }\n",
       "</style>\n",
       "<table border=\"1\" class=\"dataframe\">\n",
       "  <thead>\n",
       "    <tr style=\"text-align: right;\">\n",
       "      <th></th>\n",
       "      <th>age</th>\n",
       "      <th>education</th>\n",
       "      <th>sex</th>\n",
       "      <th>relationship</th>\n",
       "      <th>marital-status</th>\n",
       "      <th>income</th>\n",
       "    </tr>\n",
       "  </thead>\n",
       "  <tbody>\n",
       "    <tr>\n",
       "      <th>0</th>\n",
       "      <td>39</td>\n",
       "      <td>Bachelors</td>\n",
       "      <td>Male</td>\n",
       "      <td>Not-in-family</td>\n",
       "      <td>Never-married</td>\n",
       "      <td>&lt;=50K</td>\n",
       "    </tr>\n",
       "    <tr>\n",
       "      <th>1</th>\n",
       "      <td>50</td>\n",
       "      <td>Bachelors</td>\n",
       "      <td>Male</td>\n",
       "      <td>Husband</td>\n",
       "      <td>Married-civ-spouse</td>\n",
       "      <td>&lt;=50K</td>\n",
       "    </tr>\n",
       "    <tr>\n",
       "      <th>2</th>\n",
       "      <td>38</td>\n",
       "      <td>HS-grad</td>\n",
       "      <td>Male</td>\n",
       "      <td>Not-in-family</td>\n",
       "      <td>Divorced</td>\n",
       "      <td>&lt;=50K</td>\n",
       "    </tr>\n",
       "    <tr>\n",
       "      <th>3</th>\n",
       "      <td>53</td>\n",
       "      <td>11th</td>\n",
       "      <td>Male</td>\n",
       "      <td>Husband</td>\n",
       "      <td>Married-civ-spouse</td>\n",
       "      <td>&lt;=50K</td>\n",
       "    </tr>\n",
       "    <tr>\n",
       "      <th>4</th>\n",
       "      <td>28</td>\n",
       "      <td>Bachelors</td>\n",
       "      <td>Female</td>\n",
       "      <td>Wife</td>\n",
       "      <td>Married-civ-spouse</td>\n",
       "      <td>&lt;=50K</td>\n",
       "    </tr>\n",
       "  </tbody>\n",
       "</table>\n",
       "</div>"
      ],
      "text/plain": [
       "   age  education     sex   relationship      marital-status income\n",
       "0   39  Bachelors    Male  Not-in-family       Never-married  <=50K\n",
       "1   50  Bachelors    Male        Husband  Married-civ-spouse  <=50K\n",
       "2   38    HS-grad    Male  Not-in-family            Divorced  <=50K\n",
       "3   53       11th    Male        Husband  Married-civ-spouse  <=50K\n",
       "4   28  Bachelors  Female           Wife  Married-civ-spouse  <=50K"
      ]
     },
     "execution_count": 52,
     "metadata": {},
     "output_type": "execute_result"
    }
   ],
   "source": [
    "real_data.head()"
   ]
  },
  {
   "cell_type": "code",
   "execution_count": 53,
   "metadata": {},
   "outputs": [
    {
     "data": {
      "image/png": "[encoded data removed]",
      "text/plain": [
       "<Figure size 600x400 with 1 Axes>"
      ]
     },
     "metadata": {
      "needs_background": "light"
     },
     "output_type": "display_data"
    }
   ],
   "source": [
    "plt.figure(dpi=100)\n",
    "sns.boxplot(x='income', y='age', data=real_data, linewidth=0.5, fliersize=2);"
   ]
  }
 ],
 "metadata": {
  "kernelspec": {
   "display_name": "Python 3",
   "language": "python",
   "name": "python3"
  },
  "language_info": {
   "codemirror_mode": {
    "name": "ipython",
    "version": 3
   },
   "file_extension": ".py",
   "mimetype": "text/x-python",
   "name": "python",
   "nbconvert_exporter": "python",
   "pygments_lexer": "ipython3",
   "version": "3.6.8"
  }
 },
 "nbformat": 4,
 "nbformat_minor": 2
}
