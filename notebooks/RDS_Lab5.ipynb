{
 "cells": [
  {
   "cell_type": "code",
   "execution_count": 1,
   "metadata": {},
   "outputs": [],
   "source": [
    "import datetime\n",
    "import hashlib\n",
    "import string\n",
    "from itertools import product"
   ]
  },
  {
   "cell_type": "markdown",
   "metadata": {},
   "source": [
    "The value returned by a hash function is often called a hash, message digest, hash value, or checksum."
   ]
  },
  {
   "cell_type": "markdown",
   "metadata": {},
   "source": [
    "The code below takes the \"Hello World\" string and prints the HEX digest of that string. hexdigest returns a HEX string representing the hash."
   ]
  },
  {
   "cell_type": "code",
   "execution_count": 2,
   "metadata": {},
   "outputs": [
    {
     "name": "stdout",
     "output_type": "stream",
     "text": [
      "a591a6d40bf420404a011733cfb7b190d62c65bf0bcda32b57b277d9ad9f146e\n"
     ]
    }
   ],
   "source": [
    "string_to_hash = \"Hello World\".encode( \"utf-8\" )\n",
    "hash_object = hashlib.sha256(string_to_hash)\n",
    "hex_dig = hash_object.hexdigest()\n",
    "print(hex_dig)"
   ]
  },
  {
   "cell_type": "code",
   "execution_count": 3,
   "metadata": {},
   "outputs": [
    {
     "name": "stdout",
     "output_type": "stream",
     "text": [
      "a591a6d40bf420404a011733cfb7b190d62c65bf0bcda32b57b277d9ad9f146e\n"
     ]
    }
   ],
   "source": [
    "print(hashlib.sha256(string_to_hash).hexdigest())"
   ]
  },
  {
   "cell_type": "markdown",
   "metadata": {},
   "source": [
    "### Hash Code"
   ]
  },
  {
   "cell_type": "code",
   "execution_count": 4,
   "metadata": {},
   "outputs": [],
   "source": [
    "class HashCache( object ):\n",
    "\n",
    "    SALT_APPEND_RIGHT = \"right\"\n",
    "    SALT_APPEND_LEFT = \"left\"\n",
    "    \n",
    "    def __init__( self, *args, **kwargs ):\n",
    "        \n",
    "        self.string_to_hash_map = {}\n",
    "        self.cache_hit_count = 0\n",
    "        print( \"Cache initialized at \" + str( datetime.datetime.now() ) )\n",
    "        \n",
    "    #-- END __init__() method --#\n",
    "\n",
    "    def get_hash( self, string_to_hash_IN, salt_IN = \"\", append_salt_to_IN = SALT_APPEND_RIGHT ):\n",
    "\n",
    "        '''\n",
    "        Accepts string to hash and optional salt value.  If salt, appends it to the right of the string.\n",
    "            Then, checks to see if that string is already in the hash map.  If so, retrieves hash of it.\n",
    "            If not, hashes it and caches the hash.  Returns the hash, else None if there was an error.\n",
    "        '''\n",
    "\n",
    "        # return reference\n",
    "        hash_OUT = \"\"\n",
    "\n",
    "        # declare variables\n",
    "        working_string = \"\"\n",
    "        temp_hash = \"\"\n",
    "\n",
    "        # pull string into working string:\n",
    "        working_string = string_to_hash_IN\n",
    "\n",
    "        # empty?\n",
    "        if ( ( working_string is not None ) and ( working_string != \"\" ) and ( working_string != \"NaN\" ) ):\n",
    "\n",
    "            # Got a value.  hash it.\n",
    "\n",
    "            # is there a salt?\n",
    "            if ( ( salt_IN is not None ) and ( salt_IN != \"\" ) ):\n",
    "\n",
    "                # yes - use it.  Append to right or left?\n",
    "                if ( append_salt_to_IN == self.SALT_APPEND_RIGHT ):\n",
    "\n",
    "                    # right.\n",
    "                    working_string = working_string + salt_IN\n",
    "\n",
    "                else:\n",
    "\n",
    "                    # if not right, left.\n",
    "                    working_string = salt_IN + working_string\n",
    "\n",
    "                #-- END check to see if right or left append --#\n",
    "\n",
    "            #-- END check to see if salt. --#\n",
    "\n",
    "            # check to see if hash in cache\n",
    "            if ( working_string in self.string_to_hash_map ):\n",
    "\n",
    "                # cached - record cache hit.\n",
    "                self.cache_hit_count += 1\n",
    "\n",
    "            else:\n",
    "\n",
    "                # not cached.  Hash and cache.\n",
    "\n",
    "                # encode to UTF-8\n",
    "                temp_hash = working_string.encode( \"utf-8\" )\n",
    "\n",
    "                # hash\n",
    "                temp_hash = hashlib.sha256( temp_hash ).hexdigest()\n",
    "                \n",
    "                # cache\n",
    "                self.string_to_hash_map[ working_string ] = temp_hash\n",
    "\n",
    "            #-- END check to see if cached. --#\n",
    "\n",
    "            # retrieve hash from cache.\n",
    "            hash_OUT = self.string_to_hash_map[ working_string ]\n",
    "\n",
    "        else:\n",
    "\n",
    "            # No string in.  Leave empty.\n",
    "            hash_OUT = \"\"\n",
    "\n",
    "        #-- END check to see if empty --#\n",
    "\n",
    "\n",
    "        return hash_OUT\n",
    "\n",
    "    #-- END function get_hash() --#\n",
    "    \n",
    "#-- END class HashCache --#\n",
    "\n",
    "# print( \"Object HashCache defined at \" + str( datetime.datetime.now() ) )\n"
   ]
  },
  {
   "cell_type": "markdown",
   "metadata": {},
   "source": [
    "#### Create object of class HashCache"
   ]
  },
  {
   "cell_type": "code",
   "execution_count": 5,
   "metadata": {},
   "outputs": [
    {
     "name": "stdout",
     "output_type": "stream",
     "text": [
      "Cache initialized at 2019-02-28 13:05:16.819203\n"
     ]
    }
   ],
   "source": [
    "hashCacheObject = HashCache()"
   ]
  },
  {
   "cell_type": "code",
   "execution_count": 6,
   "metadata": {},
   "outputs": [
    {
     "data": {
      "text/plain": [
       "<__main__.HashCache at 0x11206d3c8>"
      ]
     },
     "execution_count": 6,
     "metadata": {},
     "output_type": "execute_result"
    }
   ],
   "source": [
    "hashCacheObject"
   ]
  },
  {
   "cell_type": "code",
   "execution_count": 7,
   "metadata": {},
   "outputs": [
    {
     "name": "stdout",
     "output_type": "stream",
     "text": [
      "hashCacheObject.cache_hit_count:  0\n",
      "hashCacheObject.SALT_APPEND_LEFT:  left\n",
      "hashCacheObject.SALT_APPEND_RIGHT:  right\n",
      "hashCacheObject.string_to_hash_map:  {}\n"
     ]
    }
   ],
   "source": [
    "print(\"hashCacheObject.cache_hit_count: \", hashCacheObject.cache_hit_count)\n",
    "print(\"hashCacheObject.SALT_APPEND_LEFT: \", hashCacheObject.SALT_APPEND_LEFT)\n",
    "print(\"hashCacheObject.SALT_APPEND_RIGHT: \", hashCacheObject.SALT_APPEND_RIGHT)\n",
    "print(\"hashCacheObject.string_to_hash_map: \", hashCacheObject.string_to_hash_map)"
   ]
  },
  {
   "cell_type": "markdown",
   "metadata": {},
   "source": [
    "#### Now let's call the get_hash function and hash some values!"
   ]
  },
  {
   "cell_type": "code",
   "execution_count": 8,
   "metadata": {},
   "outputs": [],
   "source": [
    "# define the string to be hashed\n",
    "string_to_hash = \"Responsible\""
   ]
  },
  {
   "cell_type": "markdown",
   "metadata": {},
   "source": [
    "#### For now let's not add any salt"
   ]
  },
  {
   "cell_type": "code",
   "execution_count": 9,
   "metadata": {},
   "outputs": [],
   "source": [
    "salt = \"\"\n",
    "append_salt_to_IN = \"right\""
   ]
  },
  {
   "cell_type": "code",
   "execution_count": 10,
   "metadata": {},
   "outputs": [],
   "source": [
    "# to be able to call the get_hash function from class HashCache, we need to use its object\n",
    "generated_hash_code = hashCacheObject.get_hash(string_to_hash, salt, append_salt_to_IN)\n"
   ]
  },
  {
   "cell_type": "markdown",
   "metadata": {},
   "source": [
    "#### Let's check whether our hash was correct by using an online generator for the same string: https://passwordsgenerator.net/sha256-hash-generator/"
   ]
  },
  {
   "cell_type": "code",
   "execution_count": 11,
   "metadata": {},
   "outputs": [
    {
     "name": "stdout",
     "output_type": "stream",
     "text": [
      "bc110a6d0722098ac63e93b5fd6222afe478819ec5a6f4ce2557330684eb6264\n"
     ]
    }
   ],
   "source": [
    "generated_hash_online = \"BC110A6D0722098AC63E93B5FD6222AFE478819EC5A6F4CE2557330684EB6264\"\n",
    "generated_hash_online = generated_hash_online.lower()\n",
    "print(generated_hash_online)"
   ]
  },
  {
   "cell_type": "code",
   "execution_count": 12,
   "metadata": {},
   "outputs": [
    {
     "data": {
      "text/plain": [
       "'bc110a6d0722098ac63e93b5fd6222afe478819ec5a6f4ce2557330684eb6264'"
      ]
     },
     "execution_count": 12,
     "metadata": {},
     "output_type": "execute_result"
    }
   ],
   "source": [
    "generated_hash_code"
   ]
  },
  {
   "cell_type": "code",
   "execution_count": 13,
   "metadata": {},
   "outputs": [
    {
     "name": "stdout",
     "output_type": "stream",
     "text": [
      "True\n"
     ]
    }
   ],
   "source": [
    "print(generated_hash_code == generated_hash_online)"
   ]
  },
  {
   "cell_type": "code",
   "execution_count": 14,
   "metadata": {},
   "outputs": [
    {
     "name": "stdout",
     "output_type": "stream",
     "text": [
      "hashCacheObject.cache_hit_count:  0\n",
      "hashCacheObject.SALT_APPEND_LEFT:  left\n",
      "hashCacheObject.SALT_APPEND_RIGHT:  right\n",
      "hashCacheObject.string_to_hash_map:  {'Responsible': 'bc110a6d0722098ac63e93b5fd6222afe478819ec5a6f4ce2557330684eb6264'}\n"
     ]
    }
   ],
   "source": [
    "print(\"hashCacheObject.cache_hit_count: \", hashCacheObject.cache_hit_count)\n",
    "print(\"hashCacheObject.SALT_APPEND_LEFT: \", hashCacheObject.SALT_APPEND_LEFT)\n",
    "print(\"hashCacheObject.SALT_APPEND_RIGHT: \", hashCacheObject.SALT_APPEND_RIGHT)\n",
    "print(\"hashCacheObject.string_to_hash_map: \", hashCacheObject.string_to_hash_map)"
   ]
  },
  {
   "cell_type": "markdown",
   "metadata": {},
   "source": [
    "## Cracking the hashed values"
   ]
  },
  {
   "cell_type": "markdown",
   "metadata": {},
   "source": [
    "Hashing is a one-way function. So it's not like we can do a \"decrpyt\" on them.\n",
    "\n",
    "The only ways available to do this is using a dictionary or a brute-force method."
   ]
  },
  {
   "cell_type": "markdown",
   "metadata": {},
   "source": [
    "### Dictionary Attack\n",
    "One way to crack hashcodes is by using an external dictionary which consists the common passwords etc used.\n",
    "\n",
    "Dictionaries come with actual strings, so we need to first hash them using the same hash algorithm that we used above and then do a match of the dictionary hashed word with our hashed value."
   ]
  },
  {
   "cell_type": "markdown",
   "metadata": {},
   "source": [
    "The first wordlist that we are going to try here is from here: https://github.com/praetorian-inc/Hob0Rules/blob/master/wordlists/rockyou.txt.gz"
   ]
  },
  {
   "cell_type": "markdown",
   "metadata": {},
   "source": [
    "There are some other well known dictionaries as well: https://crackstation.net/crackstation-wordlist-password-cracking-dictionary.htm"
   ]
  },
  {
   "cell_type": "code",
   "execution_count": 15,
   "metadata": {},
   "outputs": [
    {
     "name": "stdout",
     "output_type": "stream",
     "text": [
      "Processing word list into hashed word list...\n",
      "Processed word list into hashed word list...\n",
      "Iterating through hash list to crack, and comparing against word list...\n",
      "Processing Complete...\n",
      "List had: 0 matches\n"
     ]
    }
   ],
   "source": [
    "\n",
    "# Build Empty Dictionary\n",
    "dictionary = {}\n",
    "hashList =[]\n",
    "wordlist = \"rockyou.txt\"\n",
    "\n",
    "print(\"Processing word list into hashed word list...\")\n",
    "# Run through word list, and create hashed dictionary\n",
    "with open(wordlist, encoding='utf8', errors=\"ignore\") as openedFile:\n",
    "    for line in openedFile:\n",
    "        line = line.encode('utf8').rstrip()\n",
    "        hashed = hashlib.sha256(line).hexdigest()\n",
    "        dictionary.update({hashed:line})\n",
    "print(\"Processed word list into hashed word list...\")\n",
    "\n",
    "hashed_values_to_crack = [generated_hash_code]\n",
    "\n",
    "print(\"Iterating through hash list to crack, and comparing against word list...\")\n",
    "# Iterate through word list and compare to hash list\n",
    "\n",
    "counter=0\n",
    "for hash in hashed_values_to_crack:\n",
    "    if hash in dictionary:\n",
    "        print(\"*** MATCH- %s %s\" % (hash, dictionary.get(hash)))\n",
    "        counter +=1\n",
    "\n",
    "print(\"Processing Complete...\")\n",
    "print(\"List had:\", counter, \"matches\")\n"
   ]
  },
  {
   "cell_type": "markdown",
   "metadata": {},
   "source": [
    "#### Just to demonstrate that the dictionary attack works if you actually have a matching string"
   ]
  },
  {
   "cell_type": "code",
   "execution_count": 16,
   "metadata": {},
   "outputs": [],
   "source": [
    "#hashed value of sunshine\n",
    "hashed_sunshine = \"A941A4C4FD0C01CDDEF61B8BE963BF4C1E2B0811C037CE3F1835FDDF6EF6C223\".lower()"
   ]
  },
  {
   "cell_type": "code",
   "execution_count": 17,
   "metadata": {},
   "outputs": [
    {
     "data": {
      "text/plain": [
       "'a941a4c4fd0c01cddef61b8be963bf4c1e2b0811c037ce3f1835fddf6ef6c223'"
      ]
     },
     "execution_count": 17,
     "metadata": {},
     "output_type": "execute_result"
    }
   ],
   "source": [
    "hashed_sunshine"
   ]
  },
  {
   "cell_type": "code",
   "execution_count": 18,
   "metadata": {},
   "outputs": [
    {
     "name": "stdout",
     "output_type": "stream",
     "text": [
      "Iterating through hash list to crack, and comparing against word list...\n",
      "*** MATCH- a941a4c4fd0c01cddef61b8be963bf4c1e2b0811c037ce3f1835fddf6ef6c223 b'sunshine'\n",
      "Processing Complete...\n",
      "List had: 1 matches\n"
     ]
    }
   ],
   "source": [
    "\n",
    "# Build Empty Dictionary\n",
    "# dictionary = {}\n",
    "# wordlist = \"rockyou.txt\"\n",
    "\n",
    "# print(\"Processing word list into hashed word list...\")\n",
    "# # Run through word list, and create hashed dictionary\n",
    "# with open(wordlist, encoding='utf8', errors=\"ignore\") as openedFile:\n",
    "#     for line in openedFile:\n",
    "#         line = line.encode('utf8').rstrip()\n",
    "#         hashed = hashlib.sha256(line).hexdigest()\n",
    "#         dictionary.update({hashed:line})\n",
    "# print(\"Processed word list into hashed word list...\")\n",
    "\n",
    "hashed_values_to_crack = [hashed_sunshine]\n",
    "\n",
    "print(\"Iterating through hash list to crack, and comparing against word list...\")\n",
    "# Iterate through word list and compare to hash list\n",
    "\n",
    "counter=0\n",
    "for hash in hashed_values_to_crack:\n",
    "    if hash in dictionary:\n",
    "        print(\"*** MATCH- %s %s\" % (hash, dictionary.get(hash)))\n",
    "        counter +=1\n",
    "\n",
    "print(\"Processing Complete...\")\n",
    "print(\"List had:\", counter, \"matches\")\n"
   ]
  },
  {
   "cell_type": "markdown",
   "metadata": {},
   "source": [
    "### Brute Force"
   ]
  },
  {
   "cell_type": "markdown",
   "metadata": {},
   "source": [
    "#### Lets perform a brute force attack for 6 digit license number plates"
   ]
  },
  {
   "cell_type": "code",
   "execution_count": 19,
   "metadata": {},
   "outputs": [
    {
     "name": "stdout",
     "output_type": "stream",
     "text": [
      "04a29181d728dcbeafc5151ae6f79d877a2b75d20e0ffa6a7078bf68d8123d67\n"
     ]
    }
   ],
   "source": [
    "license_num = 493092\n",
    "hashed_license_num = \"04A29181D728DCBEAFC5151AE6F79D877A2B75D20E0FFA6A7078BF68D8123D67\".lower()\n",
    "print(hashed_license_num)"
   ]
  },
  {
   "cell_type": "code",
   "execution_count": 20,
   "metadata": {},
   "outputs": [],
   "source": [
    "has_l_num_123456 = '8D969EEF6ECAD3C29A3A629280E686CF0C3F5D5A86AFF3CA12020C923ADC6C92'.lower()"
   ]
  },
  {
   "cell_type": "code",
   "execution_count": 21,
   "metadata": {},
   "outputs": [
    {
     "data": {
      "text/plain": [
       "'0123456789'"
      ]
     },
     "execution_count": 21,
     "metadata": {},
     "output_type": "execute_result"
    }
   ],
   "source": [
    "string.digits"
   ]
  },
  {
   "cell_type": "code",
   "execution_count": 22,
   "metadata": {},
   "outputs": [
    {
     "name": "stdout",
     "output_type": "stream",
     "text": [
      "[(1, 1), (1, 2), (1, 3), (2, 1), (2, 2), (2, 3), (3, 1), (3, 2), (3, 3)]\n"
     ]
    }
   ],
   "source": [
    "print( list(product([1,2,3],repeat = 2)))"
   ]
  },
  {
   "cell_type": "code",
   "execution_count": 23,
   "metadata": {},
   "outputs": [
    {
     "name": "stdout",
     "output_type": "stream",
     "text": [
      "[(1, 1, 1), (1, 1, 2), (1, 1, 3), (1, 2, 1), (1, 2, 2), (1, 2, 3), (1, 3, 1), (1, 3, 2), (1, 3, 3), (2, 1, 1), (2, 1, 2), (2, 1, 3), (2, 2, 1), (2, 2, 2), (2, 2, 3), (2, 3, 1), (2, 3, 2), (2, 3, 3), (3, 1, 1), (3, 1, 2), (3, 1, 3), (3, 2, 1), (3, 2, 2), (3, 2, 3), (3, 3, 1), (3, 3, 2), (3, 3, 3)]\n"
     ]
    }
   ],
   "source": [
    "print( list(product([1,2,3],repeat = 3)))"
   ]
  },
  {
   "cell_type": "code",
   "execution_count": null,
   "metadata": {},
   "outputs": [],
   "source": [
    "# def brute_force():\n",
    "        \n"
   ]
  },
  {
   "cell_type": "code",
   "execution_count": null,
   "metadata": {},
   "outputs": [],
   "source": []
  }
 ],
 "metadata": {
  "kernelspec": {
   "display_name": "Python 3",
   "language": "python",
   "name": "python3"
  },
  "language_info": {
   "codemirror_mode": {
    "name": "ipython",
    "version": 3
   },
   "file_extension": ".py",
   "mimetype": "text/x-python",
   "name": "python",
   "nbconvert_exporter": "python",
   "pygments_lexer": "ipython3",
   "version": "3.7.1"
  }
 },
 "nbformat": 4,
 "nbformat_minor": 2
}
