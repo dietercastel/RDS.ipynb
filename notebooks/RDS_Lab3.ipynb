{
 "cells": [
  {
   "cell_type": "markdown",
   "metadata": {},
   "source": [
    "### This notebook demonstrates the ability of the DisparateImpactRemover algorithm.\n",
    "The algorithm corrects for imbalanced selection rates between unprivileged and privileged groups at various levels of repair. It follows the guidelines set forth by [1] for training the algorithm and classifier and uses the AdultDataset as an example."
   ]
  },
  {
   "cell_type": "code",
   "execution_count": 1,
   "metadata": {},
   "outputs": [],
   "source": [
    "from __future__ import absolute_import\n",
    "from __future__ import division\n",
    "from __future__ import print_function\n",
    "from __future__ import unicode_literals"
   ]
  },
  {
   "cell_type": "code",
   "execution_count": 2,
   "metadata": {},
   "outputs": [],
   "source": [
    "from matplotlib import pyplot as plt\n",
    "\n",
    "import sys\n",
    "sys.path.append(\"../\")\n",
    "import warnings\n",
    "\n",
    "import numpy as np\n",
    "import pandas as pd\n",
    "from tqdm import tqdm\n",
    "\n",
    "from sklearn.linear_model import LogisticRegression\n",
    "from sklearn.svm import SVC as SVM\n",
    "from sklearn.preprocessing import MinMaxScaler\n",
    "\n",
    "from aif360.algorithms.preprocessing import DisparateImpactRemover\n",
    "from aif360.datasets import AdultDataset\n",
    "from aif360.metrics import BinaryLabelDatasetMetric\n",
    "\n",
    "from IPython.display import Markdown, display"
   ]
  },
  {
   "cell_type": "markdown",
   "metadata": {},
   "source": [
    "#### Dataset\n",
    "https://archive.ics.uci.edu/ml/datasets/adult"
   ]
  },
  {
   "cell_type": "markdown",
   "metadata": {},
   "source": [
    "This data was extracted from the census bureau database.\n",
    "\n",
    "48842 instances, mix of continuous and discrete    (train=32561, test=16281)\n",
    "\n",
    "45222 if instances with unknown values are removed (train=30162, test=15060)"
   ]
  },
  {
   "cell_type": "code",
   "execution_count": 3,
   "metadata": {},
   "outputs": [],
   "source": [
    "f = open(\"adult.data\",\"r\")"
   ]
  },
  {
   "cell_type": "code",
   "execution_count": 4,
   "metadata": {},
   "outputs": [],
   "source": [
    "fl =f.readlines()"
   ]
  },
  {
   "cell_type": "code",
   "execution_count": 5,
   "metadata": {},
   "outputs": [],
   "source": [
    "final_list = []\n",
    "for line in fl:\n",
    "    line = line.replace(\" \", \"\")\n",
    "    line = line.rstrip()\n",
    "    l = line.split(\",\")\n",
    "#     print(l)\n",
    "    if l[len(l) - 1] == '>50K':\n",
    "        l[len(l) - 1] = 1\n",
    "    else:\n",
    "        l[len(l) - 1] = 0\n",
    "# print(l)\n",
    "#     print(l)\n",
    "    final_list.append(l)"
   ]
  },
  {
   "cell_type": "code",
   "execution_count": 6,
   "metadata": {},
   "outputs": [],
   "source": [
    "f.close()"
   ]
  },
  {
   "cell_type": "code",
   "execution_count": 7,
   "metadata": {},
   "outputs": [],
   "source": [
    "adult_df = pd.DataFrame(final_list, columns=['age', 'workclass', 'fnlwgt', 'education', 'education-num', 'marital-status',\n",
    "                                  'occupation', 'relationship', 'race', 'sex', 'capital-gain', 'capital-loss', 'hours-per-week',\n",
    "                                  'native-country', 'income-per-year'])"
   ]
  },
  {
   "cell_type": "code",
   "execution_count": 8,
   "metadata": {},
   "outputs": [
    {
     "data": {
      "text/plain": [
       "(32562, 15)"
      ]
     },
     "execution_count": 8,
     "metadata": {},
     "output_type": "execute_result"
    }
   ],
   "source": [
    "adult_df.shape"
   ]
  },
  {
   "cell_type": "code",
   "execution_count": 9,
   "metadata": {},
   "outputs": [
    {
     "data": {
      "text/html": [
       "<div>\n",
       "<style scoped>\n",
       "    .dataframe tbody tr th:only-of-type {\n",
       "        vertical-align: middle;\n",
       "    }\n",
       "\n",
       "    .dataframe tbody tr th {\n",
       "        vertical-align: top;\n",
       "    }\n",
       "\n",
       "    .dataframe thead th {\n",
       "        text-align: right;\n",
       "    }\n",
       "</style>\n",
       "<table border=\"1\" class=\"dataframe\">\n",
       "  <thead>\n",
       "    <tr style=\"text-align: right;\">\n",
       "      <th></th>\n",
       "      <th>age</th>\n",
       "      <th>workclass</th>\n",
       "      <th>fnlwgt</th>\n",
       "      <th>education</th>\n",
       "      <th>education-num</th>\n",
       "      <th>marital-status</th>\n",
       "      <th>occupation</th>\n",
       "      <th>relationship</th>\n",
       "      <th>race</th>\n",
       "      <th>sex</th>\n",
       "      <th>capital-gain</th>\n",
       "      <th>capital-loss</th>\n",
       "      <th>hours-per-week</th>\n",
       "      <th>native-country</th>\n",
       "      <th>income-per-year</th>\n",
       "    </tr>\n",
       "  </thead>\n",
       "  <tbody>\n",
       "    <tr>\n",
       "      <th>0</th>\n",
       "      <td>39</td>\n",
       "      <td>State-gov</td>\n",
       "      <td>77516</td>\n",
       "      <td>Bachelors</td>\n",
       "      <td>13</td>\n",
       "      <td>Never-married</td>\n",
       "      <td>Adm-clerical</td>\n",
       "      <td>Not-in-family</td>\n",
       "      <td>White</td>\n",
       "      <td>Male</td>\n",
       "      <td>2174</td>\n",
       "      <td>0</td>\n",
       "      <td>40</td>\n",
       "      <td>United-States</td>\n",
       "      <td>0.0</td>\n",
       "    </tr>\n",
       "    <tr>\n",
       "      <th>1</th>\n",
       "      <td>50</td>\n",
       "      <td>Self-emp-not-inc</td>\n",
       "      <td>83311</td>\n",
       "      <td>Bachelors</td>\n",
       "      <td>13</td>\n",
       "      <td>Married-civ-spouse</td>\n",
       "      <td>Exec-managerial</td>\n",
       "      <td>Husband</td>\n",
       "      <td>White</td>\n",
       "      <td>Male</td>\n",
       "      <td>0</td>\n",
       "      <td>0</td>\n",
       "      <td>13</td>\n",
       "      <td>United-States</td>\n",
       "      <td>0.0</td>\n",
       "    </tr>\n",
       "    <tr>\n",
       "      <th>2</th>\n",
       "      <td>38</td>\n",
       "      <td>Private</td>\n",
       "      <td>215646</td>\n",
       "      <td>HS-grad</td>\n",
       "      <td>9</td>\n",
       "      <td>Divorced</td>\n",
       "      <td>Handlers-cleaners</td>\n",
       "      <td>Not-in-family</td>\n",
       "      <td>White</td>\n",
       "      <td>Male</td>\n",
       "      <td>0</td>\n",
       "      <td>0</td>\n",
       "      <td>40</td>\n",
       "      <td>United-States</td>\n",
       "      <td>0.0</td>\n",
       "    </tr>\n",
       "    <tr>\n",
       "      <th>3</th>\n",
       "      <td>53</td>\n",
       "      <td>Private</td>\n",
       "      <td>234721</td>\n",
       "      <td>11th</td>\n",
       "      <td>7</td>\n",
       "      <td>Married-civ-spouse</td>\n",
       "      <td>Handlers-cleaners</td>\n",
       "      <td>Husband</td>\n",
       "      <td>Black</td>\n",
       "      <td>Male</td>\n",
       "      <td>0</td>\n",
       "      <td>0</td>\n",
       "      <td>40</td>\n",
       "      <td>United-States</td>\n",
       "      <td>0.0</td>\n",
       "    </tr>\n",
       "    <tr>\n",
       "      <th>4</th>\n",
       "      <td>28</td>\n",
       "      <td>Private</td>\n",
       "      <td>338409</td>\n",
       "      <td>Bachelors</td>\n",
       "      <td>13</td>\n",
       "      <td>Married-civ-spouse</td>\n",
       "      <td>Prof-specialty</td>\n",
       "      <td>Wife</td>\n",
       "      <td>Black</td>\n",
       "      <td>Female</td>\n",
       "      <td>0</td>\n",
       "      <td>0</td>\n",
       "      <td>40</td>\n",
       "      <td>Cuba</td>\n",
       "      <td>0.0</td>\n",
       "    </tr>\n",
       "  </tbody>\n",
       "</table>\n",
       "</div>"
      ],
      "text/plain": [
       "  age         workclass  fnlwgt  education education-num      marital-status  \\\n",
       "0  39         State-gov   77516  Bachelors            13       Never-married   \n",
       "1  50  Self-emp-not-inc   83311  Bachelors            13  Married-civ-spouse   \n",
       "2  38           Private  215646    HS-grad             9            Divorced   \n",
       "3  53           Private  234721       11th             7  Married-civ-spouse   \n",
       "4  28           Private  338409  Bachelors            13  Married-civ-spouse   \n",
       "\n",
       "          occupation   relationship   race     sex capital-gain capital-loss  \\\n",
       "0       Adm-clerical  Not-in-family  White    Male         2174            0   \n",
       "1    Exec-managerial        Husband  White    Male            0            0   \n",
       "2  Handlers-cleaners  Not-in-family  White    Male            0            0   \n",
       "3  Handlers-cleaners        Husband  Black    Male            0            0   \n",
       "4     Prof-specialty           Wife  Black  Female            0            0   \n",
       "\n",
       "  hours-per-week native-country  income-per-year  \n",
       "0             40  United-States              0.0  \n",
       "1             13  United-States              0.0  \n",
       "2             40  United-States              0.0  \n",
       "3             40  United-States              0.0  \n",
       "4             40           Cuba              0.0  "
      ]
     },
     "execution_count": 9,
     "metadata": {},
     "output_type": "execute_result"
    }
   ],
   "source": [
    "adult_df.head()"
   ]
  },
  {
   "cell_type": "code",
   "execution_count": 10,
   "metadata": {},
   "outputs": [
    {
     "data": {
      "text/plain": [
       "age                 object\n",
       "workclass           object\n",
       "fnlwgt              object\n",
       "education           object\n",
       "education-num       object\n",
       "marital-status      object\n",
       "occupation          object\n",
       "relationship        object\n",
       "race                object\n",
       "sex                 object\n",
       "capital-gain        object\n",
       "capital-loss        object\n",
       "hours-per-week      object\n",
       "native-country      object\n",
       "income-per-year    float64\n",
       "dtype: object"
      ]
     },
     "execution_count": 10,
     "metadata": {},
     "output_type": "execute_result"
    }
   ],
   "source": [
    "adult_df.dtypes"
   ]
  },
  {
   "cell_type": "code",
   "execution_count": 11,
   "metadata": {},
   "outputs": [],
   "source": [
    "adult_df = adult_df.drop(['fnlwgt'], axis=1)"
   ]
  },
  {
   "cell_type": "code",
   "execution_count": 12,
   "metadata": {},
   "outputs": [],
   "source": [
    "adult_df = adult_df.dropna()"
   ]
  },
  {
   "cell_type": "code",
   "execution_count": 13,
   "metadata": {},
   "outputs": [
    {
     "data": {
      "text/plain": [
       "(32561, 14)"
      ]
     },
     "execution_count": 13,
     "metadata": {},
     "output_type": "execute_result"
    }
   ],
   "source": [
    "adult_df.shape"
   ]
  },
  {
   "cell_type": "code",
   "execution_count": 14,
   "metadata": {},
   "outputs": [
    {
     "name": "stdout",
     "output_type": "stream",
     "text": [
      "['39' '50' '38' '53' '28' '37' '49' '52' '31' '42' '30' '23' '32' '40'\n",
      " '34' '25' '43' '54' '35' '59' '56' '19' '20' '45' '22' '48' '21' '24'\n",
      " '57' '44' '41' '29' '18' '47' '46' '36' '79' '27' '67' '33' '76' '17'\n",
      " '55' '61' '70' '64' '71' '68' '66' '51' '58' '26' '60' '90' '75' '65'\n",
      " '77' '62' '63' '80' '72' '74' '69' '73' '81' '78' '88' '82' '83' '84'\n",
      " '85' '86' '87']\n",
      "['State-gov' 'Self-emp-not-inc' 'Private' 'Federal-gov' 'Local-gov' '?'\n",
      " 'Self-emp-inc' 'Without-pay' 'Never-worked']\n",
      "['Bachelors' 'HS-grad' '11th' 'Masters' '9th' 'Some-college' 'Assoc-acdm'\n",
      " 'Assoc-voc' '7th-8th' 'Doctorate' 'Prof-school' '5th-6th' '10th'\n",
      " '1st-4th' 'Preschool' '12th']\n",
      "['13' '9' '7' '14' '5' '10' '12' '11' '4' '16' '15' '3' '6' '2' '1' '8']\n",
      "['Never-married' 'Married-civ-spouse' 'Divorced' 'Married-spouse-absent'\n",
      " 'Separated' 'Married-AF-spouse' 'Widowed']\n",
      "['Adm-clerical' 'Exec-managerial' 'Handlers-cleaners' 'Prof-specialty'\n",
      " 'Other-service' 'Sales' 'Craft-repair' 'Transport-moving'\n",
      " 'Farming-fishing' 'Machine-op-inspct' 'Tech-support' '?'\n",
      " 'Protective-serv' 'Armed-Forces' 'Priv-house-serv']\n",
      "['Not-in-family' 'Husband' 'Wife' 'Own-child' 'Unmarried' 'Other-relative']\n",
      "['White' 'Black' 'Asian-Pac-Islander' 'Amer-Indian-Eskimo' 'Other']\n",
      "['Male' 'Female']\n",
      "['2174' '0' '14084' '5178' '5013' '2407' '14344' '15024' '7688' '34095'\n",
      " '4064' '4386' '7298' '1409' '3674' '1055' '3464' '2050' '2176' '594'\n",
      " '20051' '6849' '4101' '1111' '8614' '3411' '2597' '25236' '4650' '9386'\n",
      " '2463' '3103' '10605' '2964' '3325' '2580' '3471' '4865' '99999' '6514'\n",
      " '1471' '2329' '2105' '2885' '25124' '10520' '2202' '2961' '27828' '6767'\n",
      " '2228' '1506' '13550' '2635' '5556' '4787' '3781' '3137' '3818' '3942'\n",
      " '914' '401' '2829' '2977' '4934' '2062' '2354' '5455' '15020' '1424'\n",
      " '3273' '22040' '4416' '3908' '10566' '991' '4931' '1086' '7430' '6497'\n",
      " '114' '7896' '2346' '3418' '3432' '2907' '1151' '2414' '2290' '15831'\n",
      " '41310' '4508' '2538' '3456' '6418' '1848' '3887' '5721' '9562' '1455'\n",
      " '2036' '1831' '11678' '2936' '2993' '7443' '6360' '1797' '1173' '4687'\n",
      " '6723' '2009' '6097' '2653' '1639' '18481' '7978' '2387' '5060']\n",
      "['0' '2042' '1408' '1902' '1573' '1887' '1719' '1762' '1564' '2179' '1816'\n",
      " '1980' '1977' '1876' '1340' '2206' '1741' '1485' '2339' '2415' '1380'\n",
      " '1721' '2051' '2377' '1669' '2352' '1672' '653' '2392' '1504' '2001'\n",
      " '1590' '1651' '1628' '1848' '1740' '2002' '1579' '2258' '1602' '419'\n",
      " '2547' '2174' '2205' '1726' '2444' '1138' '2238' '625' '213' '1539' '880'\n",
      " '1668' '1092' '1594' '3004' '2231' '1844' '810' '2824' '2559' '2057'\n",
      " '1974' '974' '2149' '1825' '1735' '1258' '2129' '2603' '2282' '323'\n",
      " '4356' '2246' '1617' '1648' '2489' '3770' '1755' '3683' '2267' '2080'\n",
      " '2457' '155' '3900' '2201' '1944' '2467' '2163' '2754' '2472' '1411']\n",
      "['40' '13' '16' '45' '50' '80' '30' '35' '60' '20' '52' '44' '15' '25'\n",
      " '38' '43' '55' '48' '58' '32' '70' '2' '22' '56' '41' '28' '36' '24' '46'\n",
      " '42' '12' '65' '1' '10' '34' '75' '98' '33' '54' '8' '6' '64' '19' '18'\n",
      " '72' '5' '9' '47' '37' '21' '26' '14' '4' '59' '7' '99' '53' '39' '62'\n",
      " '57' '78' '90' '66' '11' '49' '84' '3' '17' '68' '27' '85' '31' '51' '77'\n",
      " '63' '23' '87' '88' '73' '89' '97' '94' '29' '96' '67' '82' '86' '91'\n",
      " '81' '76' '92' '61' '74' '95']\n",
      "['United-States' 'Cuba' 'Jamaica' 'India' '?' 'Mexico' 'South'\n",
      " 'Puerto-Rico' 'Honduras' 'England' 'Canada' 'Germany' 'Iran'\n",
      " 'Philippines' 'Italy' 'Poland' 'Columbia' 'Cambodia' 'Thailand' 'Ecuador'\n",
      " 'Laos' 'Taiwan' 'Haiti' 'Portugal' 'Dominican-Republic' 'El-Salvador'\n",
      " 'France' 'Guatemala' 'China' 'Japan' 'Yugoslavia' 'Peru'\n",
      " 'Outlying-US(Guam-USVI-etc)' 'Scotland' 'Trinadad&Tobago' 'Greece'\n",
      " 'Nicaragua' 'Vietnam' 'Hong' 'Ireland' 'Hungary' 'Holand-Netherlands']\n",
      "[0. 1.]\n"
     ]
    }
   ],
   "source": [
    "for col in adult_df.columns:\n",
    "    print(adult_df[col].unique())"
   ]
  },
  {
   "cell_type": "code",
   "execution_count": 15,
   "metadata": {},
   "outputs": [],
   "source": [
    "adult_df = adult_df.replace({'?':np.nan}).dropna()"
   ]
  },
  {
   "cell_type": "code",
   "execution_count": 16,
   "metadata": {},
   "outputs": [
    {
     "data": {
      "text/plain": [
       "(30162, 14)"
      ]
     },
     "execution_count": 16,
     "metadata": {},
     "output_type": "execute_result"
    }
   ],
   "source": [
    "adult_df.shape"
   ]
  },
  {
   "cell_type": "code",
   "execution_count": 17,
   "metadata": {},
   "outputs": [],
   "source": [
    "int_cols = ['age',  'education-num','capital-gain', 'capital-loss', 'hours-per-week', 'income-per-year']\n",
    "for c in int_cols:\n",
    "    adult_df[c] = adult_df[c].astype(int)"
   ]
  },
  {
   "cell_type": "code",
   "execution_count": 18,
   "metadata": {},
   "outputs": [
    {
     "data": {
      "text/plain": [
       "age                 int64\n",
       "workclass          object\n",
       "education          object\n",
       "education-num       int64\n",
       "marital-status     object\n",
       "occupation         object\n",
       "relationship       object\n",
       "race               object\n",
       "sex                object\n",
       "capital-gain        int64\n",
       "capital-loss        int64\n",
       "hours-per-week      int64\n",
       "native-country     object\n",
       "income-per-year     int64\n",
       "dtype: object"
      ]
     },
     "execution_count": 18,
     "metadata": {},
     "output_type": "execute_result"
    }
   ],
   "source": [
    "adult_df.dtypes"
   ]
  },
  {
   "cell_type": "code",
   "execution_count": 19,
   "metadata": {},
   "outputs": [
    {
     "data": {
      "text/plain": [
       "count    30162.000000\n",
       "mean        38.437902\n",
       "std         13.134665\n",
       "min         17.000000\n",
       "25%         28.000000\n",
       "50%         37.000000\n",
       "75%         47.000000\n",
       "max         90.000000\n",
       "Name: age, dtype: float64"
      ]
     },
     "execution_count": 19,
     "metadata": {},
     "output_type": "execute_result"
    }
   ],
   "source": [
    "adult_df['age'].describe()"
   ]
  },
  {
   "cell_type": "code",
   "execution_count": 20,
   "metadata": {},
   "outputs": [
    {
     "data": {
      "text/plain": [
       "count    30162.000000\n",
       "mean      1092.007858\n",
       "std       7406.346497\n",
       "min          0.000000\n",
       "25%          0.000000\n",
       "50%          0.000000\n",
       "75%          0.000000\n",
       "max      99999.000000\n",
       "Name: capital-gain, dtype: float64"
      ]
     },
     "execution_count": 20,
     "metadata": {},
     "output_type": "execute_result"
    }
   ],
   "source": [
    "adult_df['capital-gain'].describe()"
   ]
  },
  {
   "cell_type": "code",
   "execution_count": 21,
   "metadata": {},
   "outputs": [
    {
     "data": {
      "text/plain": [
       "count    30162.000000\n",
       "mean        88.372489\n",
       "std        404.298370\n",
       "min          0.000000\n",
       "25%          0.000000\n",
       "50%          0.000000\n",
       "75%          0.000000\n",
       "max       4356.000000\n",
       "Name: capital-loss, dtype: float64"
      ]
     },
     "execution_count": 21,
     "metadata": {},
     "output_type": "execute_result"
    }
   ],
   "source": [
    "adult_df['capital-loss'].describe()"
   ]
  },
  {
   "cell_type": "code",
   "execution_count": 22,
   "metadata": {},
   "outputs": [
    {
     "data": {
      "text/plain": [
       "<matplotlib.axes._subplots.AxesSubplot at 0x1a1e96f438>"
      ]
     },
     "execution_count": 22,
     "metadata": {},
     "output_type": "execute_result"
    },
    {
     "data": {
      "image/png": "[encoded data removed]",
      "text/plain": [
       "<Figure size 432x288 with 1 Axes>"
      ]
     },
     "metadata": {
      "needs_background": "light"
     },
     "output_type": "display_data"
    }
   ],
   "source": [
    "adult_df['sex'].value_counts().plot(kind='bar')"
   ]
  },
  {
   "cell_type": "code",
   "execution_count": 23,
   "metadata": {},
   "outputs": [
    {
     "data": {
      "text/plain": [
       "<matplotlib.axes._subplots.AxesSubplot at 0x1a1fb06ef0>"
      ]
     },
     "execution_count": 23,
     "metadata": {},
     "output_type": "execute_result"
    },
    {
     "data": {
      "image/png": "[encoded data removed]",
      "text/plain": [
       "<Figure size 432x288 with 1 Axes>"
      ]
     },
     "metadata": {
      "needs_background": "light"
     },
     "output_type": "display_data"
    }
   ],
   "source": [
    "adult_df['income-per-year'].value_counts().plot(kind='bar')"
   ]
  },
  {
   "cell_type": "code",
   "execution_count": 24,
   "metadata": {},
   "outputs": [
    {
     "data": {
      "text/plain": [
       "<matplotlib.axes._subplots.AxesSubplot at 0x106107a90>"
      ]
     },
     "execution_count": 24,
     "metadata": {},
     "output_type": "execute_result"
    },
    {
     "data": {
      "image/png": "[encoded data removed]",
      "text/plain": [
       "<Figure size 432x288 with 1 Axes>"
      ]
     },
     "metadata": {
      "needs_background": "light"
     },
     "output_type": "display_data"
    }
   ],
   "source": [
    "# compute score histograms by race and by gender \n",
    "adult_df_f = adult_df[(adult_df.sex == 'Female')]\n",
    "adult_df_f[\"income-per-year\"].value_counts().plot(kind='bar')"
   ]
  },
  {
   "cell_type": "code",
   "execution_count": 25,
   "metadata": {},
   "outputs": [
    {
     "data": {
      "text/plain": [
       "<matplotlib.axes._subplots.AxesSubplot at 0x1a1fab5ef0>"
      ]
     },
     "execution_count": 25,
     "metadata": {},
     "output_type": "execute_result"
    },
    {
     "data": {
      "image/png": "[encoded data removed]",
      "text/plain": [
       "<Figure size 432x288 with 1 Axes>"
      ]
     },
     "metadata": {
      "needs_background": "light"
     },
     "output_type": "display_data"
    }
   ],
   "source": [
    "# compute score histograms by race and by gender \n",
    "adult_df_m = adult_df[(adult_df.sex == 'Male')]\n",
    "adult_df_m[\"income-per-year\"].value_counts().plot(kind='bar')"
   ]
  },
  {
   "cell_type": "markdown",
   "metadata": {},
   "source": [
    "#### To add your own dataset to aif360:\n",
    "Identify the following in the dataset:\n",
    "\n",
    "Favorable label\n",
    "\n",
    "Unfavorable label\n",
    "\n",
    "Privileged group\n",
    "\n",
    "Unprivileged group"
   ]
  },
  {
   "cell_type": "markdown",
   "metadata": {},
   "source": [
    "#### For this dataset:\n",
    "Sex is the protected attribute. \n",
    "#label 0: Income is less than 50K\n",
    "\n",
    "#label 1: Income is more than 50K\n",
    "\n",
    "Sex 0: Female and Gender 1: Male\n",
    "\n",
    "privileged_groups = [{'sex': 0}]\n",
    "\n",
    "unprivileged_groups = [{'sex': 1}]\n",
    "\n",
    "favorable_label = 1 \n",
    "\n",
    "unfavorable_label = 0"
   ]
  },
  {
   "cell_type": "raw",
   "metadata": {},
   "source": [
    "#Create binary label dataset that can be used by bias mitigation algorithms\n",
    "BM_dataset = BinaryLabelDataset(favorable_label=favorable_label,\n",
    "                                unfavorable_label=unfavorable_label,\n",
    "                                df=your_preprocessed_data,\n",
    "                                label_names=['income-per-year'],\n",
    "                                protected_attribute_names=['sex'],\n",
    "                                unprivileged_protected_attributes=unprivileged_groups)"
   ]
  },
  {
   "cell_type": "markdown",
   "metadata": {},
   "source": [
    "### Importing the same dataset from the aif360 toolkit"
   ]
  },
  {
   "cell_type": "raw",
   "metadata": {},
   "source": [
    "AdultDataset (label_name='income-per-year', \n",
    "               favorable_classes=['>50K', '>50K.'], \n",
    "               protected_attribute_names=['race', 'sex'], \n",
    "               privileged_classes=[['White'], ['Male']], \n",
    "               instance_weights_name=None, \n",
    "               categorical_features=['workclass', 'education', 'marital-status', 'occupation', 'relationship', 'native-country'], \n",
    "               features_to_keep=[], \n",
    "               features_to_drop=['fnlwgt'], \n",
    "               na_values=['?'],  \n",
    "               metadata={'label_maps': [{0.0: '<=50K', 1.0: '>50K'}], 'protected_attribute_maps': [{0.0: 'Non-white', 1.0: 'White'}, {0.0: 'Female', 1.0: 'Male'}]})"
   ]
  },
  {
   "cell_type": "code",
   "execution_count": 26,
   "metadata": {},
   "outputs": [],
   "source": [
    "protected = 'sex'\n",
    "\n",
    "# AdultDataset(label_name='income-per-year', favorable_classes=['>50K', '>50K.'], protected_attribute_names=['race', 'sex'], privileged_classes=[['White'], ['Male']], instance_weights_name=None, categorical_features=['workclass', 'education', 'marital-status', 'occupation', 'relationship', 'native-country'], features_to_keep=[], features_to_drop=['fnlwgt'], na_values=['?'], custom_preprocessing=None, metadata={'label_maps': [{0.0: '<=50K', 1.0: '>50K'}], 'protected_attribute_maps': [{0.0: 'Non-white', 1.0: 'White'}, {0.0: 'Female', 1.0: 'Male'}]})\n",
    "ad = AdultDataset(protected_attribute_names=[protected],\n",
    "    privileged_classes=[['Male']], categorical_features=[],\n",
    "    features_to_keep=['age', 'education-num', 'capital-gain', 'capital-loss', 'hours-per-week'])"
   ]
  },
  {
   "cell_type": "code",
   "execution_count": 27,
   "metadata": {},
   "outputs": [
    {
     "data": {
      "text/markdown": [
       "#### Dataset shape"
      ],
      "text/plain": [
       "<IPython.core.display.Markdown object>"
      ]
     },
     "metadata": {},
     "output_type": "display_data"
    },
    {
     "name": "stdout",
     "output_type": "stream",
     "text": [
      "(48842, 6)\n"
     ]
    },
    {
     "data": {
      "text/markdown": [
       "#### Favorable and unfavorable labels"
      ],
      "text/plain": [
       "<IPython.core.display.Markdown object>"
      ]
     },
     "metadata": {},
     "output_type": "display_data"
    },
    {
     "name": "stdout",
     "output_type": "stream",
     "text": [
      "1.0 , 0.0\n"
     ]
    },
    {
     "data": {
      "text/markdown": [
       "#### Protected attribute names"
      ],
      "text/plain": [
       "<IPython.core.display.Markdown object>"
      ]
     },
     "metadata": {},
     "output_type": "display_data"
    },
    {
     "name": "stdout",
     "output_type": "stream",
     "text": [
      "['sex']\n"
     ]
    },
    {
     "data": {
      "text/markdown": [
       "#### Privileged and unprivileged protected attribute values"
      ],
      "text/plain": [
       "<IPython.core.display.Markdown object>"
      ]
     },
     "metadata": {},
     "output_type": "display_data"
    },
    {
     "name": "stdout",
     "output_type": "stream",
     "text": [
      "[array([1.])] , [array([0.])]\n"
     ]
    },
    {
     "data": {
      "text/markdown": [
       "#### Dataset feature names"
      ],
      "text/plain": [
       "<IPython.core.display.Markdown object>"
      ]
     },
     "metadata": {},
     "output_type": "display_data"
    },
    {
     "name": "stdout",
     "output_type": "stream",
     "text": [
      "['age', 'education-num', 'sex', 'capital-gain', 'capital-loss', 'hours-per-week']\n"
     ]
    }
   ],
   "source": [
    "# print out some labels, names, etc.\n",
    "display(Markdown(\"#### Dataset shape\"))\n",
    "print(ad.features.shape)\n",
    "display(Markdown(\"#### Favorable and unfavorable labels\"))\n",
    "print(ad.favorable_label, \",\",ad.unfavorable_label)\n",
    "display(Markdown(\"#### Protected attribute names\"))\n",
    "print(ad.protected_attribute_names)\n",
    "display(Markdown(\"#### Privileged and unprivileged protected attribute values\"))\n",
    "print(ad.privileged_protected_attributes, \",\", ad.unprivileged_protected_attributes)\n",
    "display(Markdown(\"#### Dataset feature names\"))\n",
    "print(ad.feature_names)"
   ]
  },
  {
   "cell_type": "code",
   "execution_count": 28,
   "metadata": {},
   "outputs": [],
   "source": [
    "scaler = MinMaxScaler(copy=False)"
   ]
  },
  {
   "cell_type": "markdown",
   "metadata": {},
   "source": [
    "<b>split(num_or_size_splits, shuffle=False)</b>\n",
    "\n",
    "If num_or_size_splits is an int, k, the value is the number of equal-sized folds to make (if k does not evenly divide the dataset these folds are approximately equal-sized). \n",
    "\n",
    "If num_or_size_splits is an array of type int, the values are taken as the indices at which to split the dataset. \n",
    "\n",
    "If the values are floats (< 1.), they are considered to be fractional proportions of the dataset at which to split."
   ]
  },
  {
   "cell_type": "code",
   "execution_count": 29,
   "metadata": {},
   "outputs": [],
   "source": [
    "train, test = ad.split([32561])"
   ]
  },
  {
   "cell_type": "code",
   "execution_count": 30,
   "metadata": {},
   "outputs": [
    {
     "data": {
      "text/plain": [
       "(32561, 6)"
      ]
     },
     "execution_count": 30,
     "metadata": {},
     "output_type": "execute_result"
    }
   ],
   "source": [
    "train.features.shape"
   ]
  },
  {
   "cell_type": "code",
   "execution_count": 31,
   "metadata": {},
   "outputs": [
    {
     "data": {
      "text/plain": [
       "(16281, 6)"
      ]
     },
     "execution_count": 31,
     "metadata": {},
     "output_type": "execute_result"
    }
   ],
   "source": [
    "test.features.shape"
   ]
  },
  {
   "cell_type": "markdown",
   "metadata": {},
   "source": [
    "#### We then fit the data to the scalar object"
   ]
  },
  {
   "cell_type": "code",
   "execution_count": 32,
   "metadata": {},
   "outputs": [],
   "source": [
    "train.features = scaler.fit_transform(train.features)\n",
    "test.features = scaler.fit_transform(test.features)\n"
   ]
  },
  {
   "cell_type": "markdown",
   "metadata": {},
   "source": [
    "#### We will take the index of the protect attribute column and delete it while fitting the end classifier on the data"
   ]
  },
  {
   "cell_type": "code",
   "execution_count": 33,
   "metadata": {},
   "outputs": [
    {
     "name": "stdout",
     "output_type": "stream",
     "text": [
      "2\n"
     ]
    }
   ],
   "source": [
    "index = train.feature_names.index(protected)\n",
    "print(index)"
   ]
  },
  {
   "cell_type": "code",
   "execution_count": 34,
   "metadata": {},
   "outputs": [
    {
     "data": {
      "text/plain": [
       "['age',\n",
       " 'education-num',\n",
       " 'sex',\n",
       " 'capital-gain',\n",
       " 'capital-loss',\n",
       " 'hours-per-week']"
      ]
     },
     "execution_count": 34,
     "metadata": {},
     "output_type": "execute_result"
    }
   ],
   "source": [
    "train.feature_names"
   ]
  },
  {
   "cell_type": "markdown",
   "metadata": {},
   "source": [
    "##### Logistic Regression\n",
    "Like many other learning algorithms in scikit-learn, LogisticRegression comes with a built-in method of handling imbalanced classes. If we have highly imbalanced classes and have no addressed it during preprocessing, we have the option of using the class_weight parameter to weight the classes to make certain we have a balanced mix of each class. Specifically, the balanced argument will automatically weigh classes inversely proportional to their frequency:\n",
    "\n",
    "wj = n/(k*nj)\n",
    "\n",
    "where \n",
    "wj is the weight to class j,\n",
    "\n",
    "n is the number of observations, \n",
    "\n",
    "nj is the number of observations in class j, and \n",
    "\n",
    "k is the total number of classes."
   ]
  },
  {
   "cell_type": "code",
   "execution_count": 37,
   "metadata": {},
   "outputs": [
    {
     "name": "stderr",
     "output_type": "stream",
     "text": [
      "  0%|          | 0/11 [00:00<?, ?it/s]/Users/uditagupta/anaconda3/lib/python3.7/site-packages/sklearn/linear_model/logistic.py:433: FutureWarning: Default solver will be changed to 'lbfgs' in 0.22. Specify a solver to silence this warning.\n",
      "  FutureWarning)\n",
      "  9%|▉         | 1/11 [00:03<00:36,  3.67s/it]/Users/uditagupta/anaconda3/lib/python3.7/site-packages/sklearn/linear_model/logistic.py:433: FutureWarning: Default solver will be changed to 'lbfgs' in 0.22. Specify a solver to silence this warning.\n",
      "  FutureWarning)\n",
      " 18%|█▊        | 2/11 [00:08<00:35,  3.94s/it]/Users/uditagupta/anaconda3/lib/python3.7/site-packages/sklearn/linear_model/logistic.py:433: FutureWarning: Default solver will be changed to 'lbfgs' in 0.22. Specify a solver to silence this warning.\n",
      "  FutureWarning)\n",
      " 27%|██▋       | 3/11 [00:12<00:32,  4.02s/it]/Users/uditagupta/anaconda3/lib/python3.7/site-packages/sklearn/linear_model/logistic.py:433: FutureWarning: Default solver will be changed to 'lbfgs' in 0.22. Specify a solver to silence this warning.\n",
      "  FutureWarning)\n",
      " 36%|███▋      | 4/11 [00:16<00:27,  3.99s/it]/Users/uditagupta/anaconda3/lib/python3.7/site-packages/sklearn/linear_model/logistic.py:433: FutureWarning: Default solver will be changed to 'lbfgs' in 0.22. Specify a solver to silence this warning.\n",
      "  FutureWarning)\n",
      " 45%|████▌     | 5/11 [00:21<00:25,  4.28s/it]/Users/uditagupta/anaconda3/lib/python3.7/site-packages/sklearn/linear_model/logistic.py:433: FutureWarning: Default solver will be changed to 'lbfgs' in 0.22. Specify a solver to silence this warning.\n",
      "  FutureWarning)\n",
      " 55%|█████▍    | 6/11 [00:25<00:20,  4.19s/it]/Users/uditagupta/anaconda3/lib/python3.7/site-packages/sklearn/linear_model/logistic.py:433: FutureWarning: Default solver will be changed to 'lbfgs' in 0.22. Specify a solver to silence this warning.\n",
      "  FutureWarning)\n",
      " 64%|██████▎   | 7/11 [00:28<00:15,  3.82s/it]/Users/uditagupta/anaconda3/lib/python3.7/site-packages/sklearn/linear_model/logistic.py:433: FutureWarning: Default solver will be changed to 'lbfgs' in 0.22. Specify a solver to silence this warning.\n",
      "  FutureWarning)\n",
      " 73%|███████▎  | 8/11 [00:30<00:10,  3.35s/it]/Users/uditagupta/anaconda3/lib/python3.7/site-packages/sklearn/linear_model/logistic.py:433: FutureWarning: Default solver will be changed to 'lbfgs' in 0.22. Specify a solver to silence this warning.\n",
      "  FutureWarning)\n",
      " 82%|████████▏ | 9/11 [00:32<00:05,  2.96s/it]/Users/uditagupta/anaconda3/lib/python3.7/site-packages/sklearn/linear_model/logistic.py:433: FutureWarning: Default solver will be changed to 'lbfgs' in 0.22. Specify a solver to silence this warning.\n",
      "  FutureWarning)\n",
      " 91%|█████████ | 10/11 [00:34<00:02,  2.58s/it]/Users/uditagupta/anaconda3/lib/python3.7/site-packages/sklearn/linear_model/logistic.py:433: FutureWarning: Default solver will be changed to 'lbfgs' in 0.22. Specify a solver to silence this warning.\n",
      "  FutureWarning)\n",
      "100%|██████████| 11/11 [00:35<00:00,  2.23s/it]\n"
     ]
    }
   ],
   "source": [
    "DIs = []\n",
    "for level in tqdm(np.linspace(0., 1., 11)):\n",
    "    di = DisparateImpactRemover(repair_level=level)\n",
    "    train_repd = di.fit_transform(train)\n",
    "    test_repd = di.fit_transform(test)\n",
    "    \n",
    "    # Delete the sex feature from the data while fitting the end clasifier\n",
    "    X_tr = np.delete(train_repd.features, index, axis=1)\n",
    "    X_te = np.delete(test_repd.features, index, axis=1)\n",
    "    \n",
    "    # flatten array\n",
    "    y_tr = train_repd.labels.ravel()\n",
    "    \n",
    "    lmod = LogisticRegression(class_weight='balanced')\n",
    "    lmod.fit(X_tr, y_tr)\n",
    "    \n",
    "    test_repd_pred = test_repd.copy()\n",
    "    test_repd_pred.labels = lmod.predict(X_te)\n",
    "\n",
    "    p = [{protected: 1}]\n",
    "    u = [{protected: 0}]\n",
    "    cm = BinaryLabelDatasetMetric(test_repd_pred, privileged_groups=p, unprivileged_groups=u)\n",
    "    DIs.append(cm.disparate_impact())"
   ]
  },
  {
   "cell_type": "code",
   "execution_count": 38,
   "metadata": {},
   "outputs": [
    {
     "data": {
      "application/javascript": [
       "/* Put everything inside the global mpl namespace */\n",
       "window.mpl = {};\n",
       "\n",
       "\n",
       "mpl.get_websocket_type = function() {\n",
       "    if (typeof(WebSocket) !== 'undefined') {\n",
       "        return WebSocket;\n",
       "    } else if (typeof(MozWebSocket) !== 'undefined') {\n",
       "        return MozWebSocket;\n",
       "    } else {\n",
       "        alert('Your browser does not have WebSocket support.' +\n",
       "              'Please try Chrome, Safari or Firefox ≥ 6. ' +\n",
       "              'Firefox 4 and 5 are also supported but you ' +\n",
       "              'have to enable WebSockets in about:config.');\n",
       "    };\n",
       "}\n",
       "\n",
       "mpl.figure = function(figure_id, websocket, ondownload, parent_element) {\n",
       "    this.id = figure_id;\n",
       "\n",
       "    this.ws = websocket;\n",
       "\n",
       "    this.supports_binary = (this.ws.binaryType != undefined);\n",
       "\n",
       "    if (!this.supports_binary) {\n",
       "        var warnings = document.getElementById(\"mpl-warnings\");\n",
       "        if (warnings) {\n",
       "            warnings.style.display = 'block';\n",
       "            warnings.textContent = (\n",
       "                \"This browser does not support binary websocket messages. \" +\n",
       "                    \"Performance may be slow.\");\n",
       "        }\n",
       "    }\n",
       "\n",
       "    this.imageObj = new Image();\n",
       "\n",
       "    this.context = undefined;\n",
       "    this.message = undefined;\n",
       "    this.canvas = undefined;\n",
       "    this.rubberband_canvas = undefined;\n",
       "    this.rubberband_context = undefined;\n",
       "    this.format_dropdown = undefined;\n",
       "\n",
       "    this.image_mode = 'full';\n",
       "\n",
       "    this.root = $('<div/>');\n",
       "    this._root_extra_style(this.root)\n",
       "    this.root.attr('style', 'display: inline-block');\n",
       "\n",
       "    $(parent_element).append(this.root);\n",
       "\n",
       "    this._init_header(this);\n",
       "    this._init_canvas(this);\n",
       "    this._init_toolbar(this);\n",
       "\n",
       "    var fig = this;\n",
       "\n",
       "    this.waiting = false;\n",
       "\n",
       "    this.ws.onopen =  function () {\n",
       "            fig.send_message(\"supports_binary\", {value: fig.supports_binary});\n",
       "            fig.send_message(\"send_image_mode\", {});\n",
       "            if (mpl.ratio != 1) {\n",
       "                fig.send_message(\"set_dpi_ratio\", {'dpi_ratio': mpl.ratio});\n",
       "            }\n",
       "            fig.send_message(\"refresh\", {});\n",
       "        }\n",
       "\n",
       "    this.imageObj.onload = function() {\n",
       "            if (fig.image_mode == 'full') {\n",
       "                // Full images could contain transparency (where diff images\n",
       "                // almost always do), so we need to clear the canvas so that\n",
       "                // there is no ghosting.\n",
       "                fig.context.clearRect(0, 0, fig.canvas.width, fig.canvas.height);\n",
       "            }\n",
       "            fig.context.drawImage(fig.imageObj, 0, 0);\n",
       "        };\n",
       "\n",
       "    this.imageObj.onunload = function() {\n",
       "        fig.ws.close();\n",
       "    }\n",
       "\n",
       "    this.ws.onmessage = this._make_on_message_function(this);\n",
       "\n",
       "    this.ondownload = ondownload;\n",
       "}\n",
       "\n",
       "mpl.figure.prototype._init_header = function() {\n",
       "    var titlebar = $(\n",
       "        '<div class=\"ui-dialog-titlebar ui-widget-header ui-corner-all ' +\n",
       "        'ui-helper-clearfix\"/>');\n",
       "    var titletext = $(\n",
       "        '<div class=\"ui-dialog-title\" style=\"width: 100%; ' +\n",
       "        'text-align: center; padding: 3px;\"/>');\n",
       "    titlebar.append(titletext)\n",
       "    this.root.append(titlebar);\n",
       "    this.header = titletext[0];\n",
       "}\n",
       "\n",
       "\n",
       "\n",
       "mpl.figure.prototype._canvas_extra_style = function(canvas_div) {\n",
       "\n",
       "}\n",
       "\n",
       "\n",
       "mpl.figure.prototype._root_extra_style = function(canvas_div) {\n",
       "\n",
       "}\n",
       "\n",
       "mpl.figure.prototype._init_canvas = function() {\n",
       "    var fig = this;\n",
       "\n",
       "    var canvas_div = $('<div/>');\n",
       "\n",
       "    canvas_div.attr('style', 'position: relative; clear: both; outline: 0');\n",
       "\n",
       "    function canvas_keyboard_event(event) {\n",
       "        return fig.key_event(event, event['data']);\n",
       "    }\n",
       "\n",
       "    canvas_div.keydown('key_press', canvas_keyboard_event);\n",
       "    canvas_div.keyup('key_release', canvas_keyboard_event);\n",
       "    this.canvas_div = canvas_div\n",
       "    this._canvas_extra_style(canvas_div)\n",
       "    this.root.append(canvas_div);\n",
       "\n",
       "    var canvas = $('<canvas/>');\n",
       "    canvas.addClass('mpl-canvas');\n",
       "    canvas.attr('style', \"left: 0; top: 0; z-index: 0; outline: 0\")\n",
       "\n",
       "    this.canvas = canvas[0];\n",
       "    this.context = canvas[0].getContext(\"2d\");\n",
       "\n",
       "    var backingStore = this.context.backingStorePixelRatio ||\n",
       "\tthis.context.webkitBackingStorePixelRatio ||\n",
       "\tthis.context.mozBackingStorePixelRatio ||\n",
       "\tthis.context.msBackingStorePixelRatio ||\n",
       "\tthis.context.oBackingStorePixelRatio ||\n",
       "\tthis.context.backingStorePixelRatio || 1;\n",
       "\n",
       "    mpl.ratio = (window.devicePixelRatio || 1) / backingStore;\n",
       "\n",
       "    var rubberband = $('<canvas/>');\n",
       "    rubberband.attr('style', \"position: absolute; left: 0; top: 0; z-index: 1;\")\n",
       "\n",
       "    var pass_mouse_events = true;\n",
       "\n",
       "    canvas_div.resizable({\n",
       "        start: function(event, ui) {\n",
       "            pass_mouse_events = false;\n",
       "        },\n",
       "        resize: function(event, ui) {\n",
       "            fig.request_resize(ui.size.width, ui.size.height);\n",
       "        },\n",
       "        stop: function(event, ui) {\n",
       "            pass_mouse_events = true;\n",
       "            fig.request_resize(ui.size.width, ui.size.height);\n",
       "        },\n",
       "    });\n",
       "\n",
       "    function mouse_event_fn(event) {\n",
       "        if (pass_mouse_events)\n",
       "            return fig.mouse_event(event, event['data']);\n",
       "    }\n",
       "\n",
       "    rubberband.mousedown('button_press', mouse_event_fn);\n",
       "    rubberband.mouseup('button_release', mouse_event_fn);\n",
       "    // Throttle sequential mouse events to 1 every 20ms.\n",
       "    rubberband.mousemove('motion_notify', mouse_event_fn);\n",
       "\n",
       "    rubberband.mouseenter('figure_enter', mouse_event_fn);\n",
       "    rubberband.mouseleave('figure_leave', mouse_event_fn);\n",
       "\n",
       "    canvas_div.on(\"wheel\", function (event) {\n",
       "        event = event.originalEvent;\n",
       "        event['data'] = 'scroll'\n",
       "        if (event.deltaY < 0) {\n",
       "            event.step = 1;\n",
       "        } else {\n",
       "            event.step = -1;\n",
       "        }\n",
       "        mouse_event_fn(event);\n",
       "    });\n",
       "\n",
       "    canvas_div.append(canvas);\n",
       "    canvas_div.append(rubberband);\n",
       "\n",
       "    this.rubberband = rubberband;\n",
       "    this.rubberband_canvas = rubberband[0];\n",
       "    this.rubberband_context = rubberband[0].getContext(\"2d\");\n",
       "    this.rubberband_context.strokeStyle = \"#000000\";\n",
       "\n",
       "    this._resize_canvas = function(width, height) {\n",
       "        // Keep the size of the canvas, canvas container, and rubber band\n",
       "        // canvas in synch.\n",
       "        canvas_div.css('width', width)\n",
       "        canvas_div.css('height', height)\n",
       "\n",
       "        canvas.attr('width', width * mpl.ratio);\n",
       "        canvas.attr('height', height * mpl.ratio);\n",
       "        canvas.attr('style', 'width: ' + width + 'px; height: ' + height + 'px;');\n",
       "\n",
       "        rubberband.attr('width', width);\n",
       "        rubberband.attr('height', height);\n",
       "    }\n",
       "\n",
       "    // Set the figure to an initial 600x600px, this will subsequently be updated\n",
       "    // upon first draw.\n",
       "    this._resize_canvas(600, 600);\n",
       "\n",
       "    // Disable right mouse context menu.\n",
       "    $(this.rubberband_canvas).bind(\"contextmenu\",function(e){\n",
       "        return false;\n",
       "    });\n",
       "\n",
       "    function set_focus () {\n",
       "        canvas.focus();\n",
       "        canvas_div.focus();\n",
       "    }\n",
       "\n",
       "    window.setTimeout(set_focus, 100);\n",
       "}\n",
       "\n",
       "mpl.figure.prototype._init_toolbar = function() {\n",
       "    var fig = this;\n",
       "\n",
       "    var nav_element = $('<div/>')\n",
       "    nav_element.attr('style', 'width: 100%');\n",
       "    this.root.append(nav_element);\n",
       "\n",
       "    // Define a callback function for later on.\n",
       "    function toolbar_event(event) {\n",
       "        return fig.toolbar_button_onclick(event['data']);\n",
       "    }\n",
       "    function toolbar_mouse_event(event) {\n",
       "        return fig.toolbar_button_onmouseover(event['data']);\n",
       "    }\n",
       "\n",
       "    for(var toolbar_ind in mpl.toolbar_items) {\n",
       "        var name = mpl.toolbar_items[toolbar_ind][0];\n",
       "        var tooltip = mpl.toolbar_items[toolbar_ind][1];\n",
       "        var image = mpl.toolbar_items[toolbar_ind][2];\n",
       "        var method_name = mpl.toolbar_items[toolbar_ind][3];\n",
       "\n",
       "        if (!name) {\n",
       "            // put a spacer in here.\n",
       "            continue;\n",
       "        }\n",
       "        var button = $('<button/>');\n",
       "        button.addClass('ui-button ui-widget ui-state-default ui-corner-all ' +\n",
       "                        'ui-button-icon-only');\n",
       "        button.attr('role', 'button');\n",
       "        button.attr('aria-disabled', 'false');\n",
       "        button.click(method_name, toolbar_event);\n",
       "        button.mouseover(tooltip, toolbar_mouse_event);\n",
       "\n",
       "        var icon_img = $('<span/>');\n",
       "        icon_img.addClass('ui-button-icon-primary ui-icon');\n",
       "        icon_img.addClass(image);\n",
       "        icon_img.addClass('ui-corner-all');\n",
       "\n",
       "        var tooltip_span = $('<span/>');\n",
       "        tooltip_span.addClass('ui-button-text');\n",
       "        tooltip_span.html(tooltip);\n",
       "\n",
       "        button.append(icon_img);\n",
       "        button.append(tooltip_span);\n",
       "\n",
       "        nav_element.append(button);\n",
       "    }\n",
       "\n",
       "    var fmt_picker_span = $('<span/>');\n",
       "\n",
       "    var fmt_picker = $('<select/>');\n",
       "    fmt_picker.addClass('mpl-toolbar-option ui-widget ui-widget-content');\n",
       "    fmt_picker_span.append(fmt_picker);\n",
       "    nav_element.append(fmt_picker_span);\n",
       "    this.format_dropdown = fmt_picker[0];\n",
       "\n",
       "    for (var ind in mpl.extensions) {\n",
       "        var fmt = mpl.extensions[ind];\n",
       "        var option = $(\n",
       "            '<option/>', {selected: fmt === mpl.default_extension}).html(fmt);\n",
       "        fmt_picker.append(option)\n",
       "    }\n",
       "\n",
       "    // Add hover states to the ui-buttons\n",
       "    $( \".ui-button\" ).hover(\n",
       "        function() { $(this).addClass(\"ui-state-hover\");},\n",
       "        function() { $(this).removeClass(\"ui-state-hover\");}\n",
       "    );\n",
       "\n",
       "    var status_bar = $('<span class=\"mpl-message\"/>');\n",
       "    nav_element.append(status_bar);\n",
       "    this.message = status_bar[0];\n",
       "}\n",
       "\n",
       "mpl.figure.prototype.request_resize = function(x_pixels, y_pixels) {\n",
       "    // Request matplotlib to resize the figure. Matplotlib will then trigger a resize in the client,\n",
       "    // which will in turn request a refresh of the image.\n",
       "    this.send_message('resize', {'width': x_pixels, 'height': y_pixels});\n",
       "}\n",
       "\n",
       "mpl.figure.prototype.send_message = function(type, properties) {\n",
       "    properties['type'] = type;\n",
       "    properties['figure_id'] = this.id;\n",
       "    this.ws.send(JSON.stringify(properties));\n",
       "}\n",
       "\n",
       "mpl.figure.prototype.send_draw_message = function() {\n",
       "    if (!this.waiting) {\n",
       "        this.waiting = true;\n",
       "        this.ws.send(JSON.stringify({type: \"draw\", figure_id: this.id}));\n",
       "    }\n",
       "}\n",
       "\n",
       "\n",
       "mpl.figure.prototype.handle_save = function(fig, msg) {\n",
       "    var format_dropdown = fig.format_dropdown;\n",
       "    var format = format_dropdown.options[format_dropdown.selectedIndex].value;\n",
       "    fig.ondownload(fig, format);\n",
       "}\n",
       "\n",
       "\n",
       "mpl.figure.prototype.handle_resize = function(fig, msg) {\n",
       "    var size = msg['size'];\n",
       "    if (size[0] != fig.canvas.width || size[1] != fig.canvas.height) {\n",
       "        fig._resize_canvas(size[0], size[1]);\n",
       "        fig.send_message(\"refresh\", {});\n",
       "    };\n",
       "}\n",
       "\n",
       "mpl.figure.prototype.handle_rubberband = function(fig, msg) {\n",
       "    var x0 = msg['x0'] / mpl.ratio;\n",
       "    var y0 = (fig.canvas.height - msg['y0']) / mpl.ratio;\n",
       "    var x1 = msg['x1'] / mpl.ratio;\n",
       "    var y1 = (fig.canvas.height - msg['y1']) / mpl.ratio;\n",
       "    x0 = Math.floor(x0) + 0.5;\n",
       "    y0 = Math.floor(y0) + 0.5;\n",
       "    x1 = Math.floor(x1) + 0.5;\n",
       "    y1 = Math.floor(y1) + 0.5;\n",
       "    var min_x = Math.min(x0, x1);\n",
       "    var min_y = Math.min(y0, y1);\n",
       "    var width = Math.abs(x1 - x0);\n",
       "    var height = Math.abs(y1 - y0);\n",
       "\n",
       "    fig.rubberband_context.clearRect(\n",
       "        0, 0, fig.canvas.width, fig.canvas.height);\n",
       "\n",
       "    fig.rubberband_context.strokeRect(min_x, min_y, width, height);\n",
       "}\n",
       "\n",
       "mpl.figure.prototype.handle_figure_label = function(fig, msg) {\n",
       "    // Updates the figure title.\n",
       "    fig.header.textContent = msg['label'];\n",
       "}\n",
       "\n",
       "mpl.figure.prototype.handle_cursor = function(fig, msg) {\n",
       "    var cursor = msg['cursor'];\n",
       "    switch(cursor)\n",
       "    {\n",
       "    case 0:\n",
       "        cursor = 'pointer';\n",
       "        break;\n",
       "    case 1:\n",
       "        cursor = 'default';\n",
       "        break;\n",
       "    case 2:\n",
       "        cursor = 'crosshair';\n",
       "        break;\n",
       "    case 3:\n",
       "        cursor = 'move';\n",
       "        break;\n",
       "    }\n",
       "    fig.rubberband_canvas.style.cursor = cursor;\n",
       "}\n",
       "\n",
       "mpl.figure.prototype.handle_message = function(fig, msg) {\n",
       "    fig.message.textContent = msg['message'];\n",
       "}\n",
       "\n",
       "mpl.figure.prototype.handle_draw = function(fig, msg) {\n",
       "    // Request the server to send over a new figure.\n",
       "    fig.send_draw_message();\n",
       "}\n",
       "\n",
       "mpl.figure.prototype.handle_image_mode = function(fig, msg) {\n",
       "    fig.image_mode = msg['mode'];\n",
       "}\n",
       "\n",
       "mpl.figure.prototype.updated_canvas_event = function() {\n",
       "    // Called whenever the canvas gets updated.\n",
       "    this.send_message(\"ack\", {});\n",
       "}\n",
       "\n",
       "// A function to construct a web socket function for onmessage handling.\n",
       "// Called in the figure constructor.\n",
       "mpl.figure.prototype._make_on_message_function = function(fig) {\n",
       "    return function socket_on_message(evt) {\n",
       "        if (evt.data instanceof Blob) {\n",
       "            /* FIXME: We get \"Resource interpreted as Image but\n",
       "             * transferred with MIME type text/plain:\" errors on\n",
       "             * Chrome.  But how to set the MIME type?  It doesn't seem\n",
       "             * to be part of the websocket stream */\n",
       "            evt.data.type = \"image/png\";\n",
       "\n",
       "            /* Free the memory for the previous frames */\n",
       "            if (fig.imageObj.src) {\n",
       "                (window.URL || window.webkitURL).revokeObjectURL(\n",
       "                    fig.imageObj.src);\n",
       "            }\n",
       "\n",
       "            fig.imageObj.src = (window.URL || window.webkitURL).createObjectURL(\n",
       "                evt.data);\n",
       "            fig.updated_canvas_event();\n",
       "            fig.waiting = false;\n",
       "            return;\n",
       "        }\n",
       "        else if (typeof evt.data === 'string' && evt.data.slice(0, 21) == \"data:image/png;base64\") {\n",
       "            fig.imageObj.src = evt.data;\n",
       "            fig.updated_canvas_event();\n",
       "            fig.waiting = false;\n",
       "            return;\n",
       "        }\n",
       "\n",
       "        var msg = JSON.parse(evt.data);\n",
       "        var msg_type = msg['type'];\n",
       "\n",
       "        // Call the  \"handle_{type}\" callback, which takes\n",
       "        // the figure and JSON message as its only arguments.\n",
       "        try {\n",
       "            var callback = fig[\"handle_\" + msg_type];\n",
       "        } catch (e) {\n",
       "            console.log(\"No handler for the '\" + msg_type + \"' message type: \", msg);\n",
       "            return;\n",
       "        }\n",
       "\n",
       "        if (callback) {\n",
       "            try {\n",
       "                // console.log(\"Handling '\" + msg_type + \"' message: \", msg);\n",
       "                callback(fig, msg);\n",
       "            } catch (e) {\n",
       "                console.log(\"Exception inside the 'handler_\" + msg_type + \"' callback:\", e, e.stack, msg);\n",
       "            }\n",
       "        }\n",
       "    };\n",
       "}\n",
       "\n",
       "// from http://stackoverflow.com/questions/1114465/getting-mouse-location-in-canvas\n",
       "mpl.findpos = function(e) {\n",
       "    //this section is from http://www.quirksmode.org/js/events_properties.html\n",
       "    var targ;\n",
       "    if (!e)\n",
       "        e = window.event;\n",
       "    if (e.target)\n",
       "        targ = e.target;\n",
       "    else if (e.srcElement)\n",
       "        targ = e.srcElement;\n",
       "    if (targ.nodeType == 3) // defeat Safari bug\n",
       "        targ = targ.parentNode;\n",
       "\n",
       "    // jQuery normalizes the pageX and pageY\n",
       "    // pageX,Y are the mouse positions relative to the document\n",
       "    // offset() returns the position of the element relative to the document\n",
       "    var x = e.pageX - $(targ).offset().left;\n",
       "    var y = e.pageY - $(targ).offset().top;\n",
       "\n",
       "    return {\"x\": x, \"y\": y};\n",
       "};\n",
       "\n",
       "/*\n",
       " * return a copy of an object with only non-object keys\n",
       " * we need this to avoid circular references\n",
       " * http://stackoverflow.com/a/24161582/3208463\n",
       " */\n",
       "function simpleKeys (original) {\n",
       "  return Object.keys(original).reduce(function (obj, key) {\n",
       "    if (typeof original[key] !== 'object')\n",
       "        obj[key] = original[key]\n",
       "    return obj;\n",
       "  }, {});\n",
       "}\n",
       "\n",
       "mpl.figure.prototype.mouse_event = function(event, name) {\n",
       "    var canvas_pos = mpl.findpos(event)\n",
       "\n",
       "    if (name === 'button_press')\n",
       "    {\n",
       "        this.canvas.focus();\n",
       "        this.canvas_div.focus();\n",
       "    }\n",
       "\n",
       "    var x = canvas_pos.x * mpl.ratio;\n",
       "    var y = canvas_pos.y * mpl.ratio;\n",
       "\n",
       "    this.send_message(name, {x: x, y: y, button: event.button,\n",
       "                             step: event.step,\n",
       "                             guiEvent: simpleKeys(event)});\n",
       "\n",
       "    /* This prevents the web browser from automatically changing to\n",
       "     * the text insertion cursor when the button is pressed.  We want\n",
       "     * to control all of the cursor setting manually through the\n",
       "     * 'cursor' event from matplotlib */\n",
       "    event.preventDefault();\n",
       "    return false;\n",
       "}\n",
       "\n",
       "mpl.figure.prototype._key_event_extra = function(event, name) {\n",
       "    // Handle any extra behaviour associated with a key event\n",
       "}\n",
       "\n",
       "mpl.figure.prototype.key_event = function(event, name) {\n",
       "\n",
       "    // Prevent repeat events\n",
       "    if (name == 'key_press')\n",
       "    {\n",
       "        if (event.which === this._key)\n",
       "            return;\n",
       "        else\n",
       "            this._key = event.which;\n",
       "    }\n",
       "    if (name == 'key_release')\n",
       "        this._key = null;\n",
       "\n",
       "    var value = '';\n",
       "    if (event.ctrlKey && event.which != 17)\n",
       "        value += \"ctrl+\";\n",
       "    if (event.altKey && event.which != 18)\n",
       "        value += \"alt+\";\n",
       "    if (event.shiftKey && event.which != 16)\n",
       "        value += \"shift+\";\n",
       "\n",
       "    value += 'k';\n",
       "    value += event.which.toString();\n",
       "\n",
       "    this._key_event_extra(event, name);\n",
       "\n",
       "    this.send_message(name, {key: value,\n",
       "                             guiEvent: simpleKeys(event)});\n",
       "    return false;\n",
       "}\n",
       "\n",
       "mpl.figure.prototype.toolbar_button_onclick = function(name) {\n",
       "    if (name == 'download') {\n",
       "        this.handle_save(this, null);\n",
       "    } else {\n",
       "        this.send_message(\"toolbar_button\", {name: name});\n",
       "    }\n",
       "};\n",
       "\n",
       "mpl.figure.prototype.toolbar_button_onmouseover = function(tooltip) {\n",
       "    this.message.textContent = tooltip;\n",
       "};\n",
       "mpl.toolbar_items = [[\"Home\", \"Reset original view\", \"fa fa-home icon-home\", \"home\"], [\"Back\", \"Back to previous view\", \"fa fa-arrow-left icon-arrow-left\", \"back\"], [\"Forward\", \"Forward to next view\", \"fa fa-arrow-right icon-arrow-right\", \"forward\"], [\"\", \"\", \"\", \"\"], [\"Pan\", \"Pan axes with left mouse, zoom with right\", \"fa fa-arrows icon-move\", \"pan\"], [\"Zoom\", \"Zoom to rectangle\", \"fa fa-square-o icon-check-empty\", \"zoom\"], [\"\", \"\", \"\", \"\"], [\"Download\", \"Download plot\", \"fa fa-floppy-o icon-save\", \"download\"]];\n",
       "\n",
       "mpl.extensions = [\"eps\", \"jpeg\", \"pdf\", \"png\", \"ps\", \"raw\", \"svg\", \"tif\"];\n",
       "\n",
       "mpl.default_extension = \"png\";var comm_websocket_adapter = function(comm) {\n",
       "    // Create a \"websocket\"-like object which calls the given IPython comm\n",
       "    // object with the appropriate methods. Currently this is a non binary\n",
       "    // socket, so there is still some room for performance tuning.\n",
       "    var ws = {};\n",
       "\n",
       "    ws.close = function() {\n",
       "        comm.close()\n",
       "    };\n",
       "    ws.send = function(m) {\n",
       "        //console.log('sending', m);\n",
       "        comm.send(m);\n",
       "    };\n",
       "    // Register the callback with on_msg.\n",
       "    comm.on_msg(function(msg) {\n",
       "        //console.log('receiving', msg['content']['data'], msg);\n",
       "        // Pass the mpl event to the overridden (by mpl) onmessage function.\n",
       "        ws.onmessage(msg['content']['data'])\n",
       "    });\n",
       "    return ws;\n",
       "}\n",
       "\n",
       "mpl.mpl_figure_comm = function(comm, msg) {\n",
       "    // This is the function which gets called when the mpl process\n",
       "    // starts-up an IPython Comm through the \"matplotlib\" channel.\n",
       "\n",
       "    var id = msg.content.data.id;\n",
       "    // Get hold of the div created by the display call when the Comm\n",
       "    // socket was opened in Python.\n",
       "    var element = $(\"#\" + id);\n",
       "    var ws_proxy = comm_websocket_adapter(comm)\n",
       "\n",
       "    function ondownload(figure, format) {\n",
       "        window.open(figure.imageObj.src);\n",
       "    }\n",
       "\n",
       "    var fig = new mpl.figure(id, ws_proxy,\n",
       "                           ondownload,\n",
       "                           element.get(0));\n",
       "\n",
       "    // Call onopen now - mpl needs it, as it is assuming we've passed it a real\n",
       "    // web socket which is closed, not our websocket->open comm proxy.\n",
       "    ws_proxy.onopen();\n",
       "\n",
       "    fig.parent_element = element.get(0);\n",
       "    fig.cell_info = mpl.find_output_cell(\"<div id='\" + id + \"'></div>\");\n",
       "    if (!fig.cell_info) {\n",
       "        console.error(\"Failed to find cell for figure\", id, fig);\n",
       "        return;\n",
       "    }\n",
       "\n",
       "    var output_index = fig.cell_info[2]\n",
       "    var cell = fig.cell_info[0];\n",
       "\n",
       "};\n",
       "\n",
       "mpl.figure.prototype.handle_close = function(fig, msg) {\n",
       "    var width = fig.canvas.width/mpl.ratio\n",
       "    fig.root.unbind('remove')\n",
       "\n",
       "    // Update the output cell to use the data from the current canvas.\n",
       "    fig.push_to_output();\n",
       "    var dataURL = fig.canvas.toDataURL();\n",
       "    // Re-enable the keyboard manager in IPython - without this line, in FF,\n",
       "    // the notebook keyboard shortcuts fail.\n",
       "    IPython.keyboard_manager.enable()\n",
       "    $(fig.parent_element).html('<img src=\"' + dataURL + '\" width=\"' + width + '\">');\n",
       "    fig.close_ws(fig, msg);\n",
       "}\n",
       "\n",
       "mpl.figure.prototype.close_ws = function(fig, msg){\n",
       "    fig.send_message('closing', msg);\n",
       "    // fig.ws.close()\n",
       "}\n",
       "\n",
       "mpl.figure.prototype.push_to_output = function(remove_interactive) {\n",
       "    // Turn the data on the canvas into data in the output cell.\n",
       "    var width = this.canvas.width/mpl.ratio\n",
       "    var dataURL = this.canvas.toDataURL();\n",
       "    this.cell_info[1]['text/html'] = '<img src=\"' + dataURL + '\" width=\"' + width + '\">';\n",
       "}\n",
       "\n",
       "mpl.figure.prototype.updated_canvas_event = function() {\n",
       "    // Tell IPython that the notebook contents must change.\n",
       "    IPython.notebook.set_dirty(true);\n",
       "    this.send_message(\"ack\", {});\n",
       "    var fig = this;\n",
       "    // Wait a second, then push the new image to the DOM so\n",
       "    // that it is saved nicely (might be nice to debounce this).\n",
       "    setTimeout(function () { fig.push_to_output() }, 1000);\n",
       "}\n",
       "\n",
       "mpl.figure.prototype._init_toolbar = function() {\n",
       "    var fig = this;\n",
       "\n",
       "    var nav_element = $('<div/>')\n",
       "    nav_element.attr('style', 'width: 100%');\n",
       "    this.root.append(nav_element);\n",
       "\n",
       "    // Define a callback function for later on.\n",
       "    function toolbar_event(event) {\n",
       "        return fig.toolbar_button_onclick(event['data']);\n",
       "    }\n",
       "    function toolbar_mouse_event(event) {\n",
       "        return fig.toolbar_button_onmouseover(event['data']);\n",
       "    }\n",
       "\n",
       "    for(var toolbar_ind in mpl.toolbar_items){\n",
       "        var name = mpl.toolbar_items[toolbar_ind][0];\n",
       "        var tooltip = mpl.toolbar_items[toolbar_ind][1];\n",
       "        var image = mpl.toolbar_items[toolbar_ind][2];\n",
       "        var method_name = mpl.toolbar_items[toolbar_ind][3];\n",
       "\n",
       "        if (!name) { continue; };\n",
       "\n",
       "        var button = $('<button class=\"btn btn-default\" href=\"#\" title=\"' + name + '\"><i class=\"fa ' + image + ' fa-lg\"></i></button>');\n",
       "        button.click(method_name, toolbar_event);\n",
       "        button.mouseover(tooltip, toolbar_mouse_event);\n",
       "        nav_element.append(button);\n",
       "    }\n",
       "\n",
       "    // Add the status bar.\n",
       "    var status_bar = $('<span class=\"mpl-message\" style=\"text-align:right; float: right;\"/>');\n",
       "    nav_element.append(status_bar);\n",
       "    this.message = status_bar[0];\n",
       "\n",
       "    // Add the close button to the window.\n",
       "    var buttongrp = $('<div class=\"btn-group inline pull-right\"></div>');\n",
       "    var button = $('<button class=\"btn btn-mini btn-primary\" href=\"#\" title=\"Stop Interaction\"><i class=\"fa fa-power-off icon-remove icon-large\"></i></button>');\n",
       "    button.click(function (evt) { fig.handle_close(fig, {}); } );\n",
       "    button.mouseover('Stop Interaction', toolbar_mouse_event);\n",
       "    buttongrp.append(button);\n",
       "    var titlebar = this.root.find($('.ui-dialog-titlebar'));\n",
       "    titlebar.prepend(buttongrp);\n",
       "}\n",
       "\n",
       "mpl.figure.prototype._root_extra_style = function(el){\n",
       "    var fig = this\n",
       "    el.on(\"remove\", function(){\n",
       "\tfig.close_ws(fig, {});\n",
       "    });\n",
       "}\n",
       "\n",
       "mpl.figure.prototype._canvas_extra_style = function(el){\n",
       "    // this is important to make the div 'focusable\n",
       "    el.attr('tabindex', 0)\n",
       "    // reach out to IPython and tell the keyboard manager to turn it's self\n",
       "    // off when our div gets focus\n",
       "\n",
       "    // location in version 3\n",
       "    if (IPython.notebook.keyboard_manager) {\n",
       "        IPython.notebook.keyboard_manager.register_events(el);\n",
       "    }\n",
       "    else {\n",
       "        // location in version 2\n",
       "        IPython.keyboard_manager.register_events(el);\n",
       "    }\n",
       "\n",
       "}\n",
       "\n",
       "mpl.figure.prototype._key_event_extra = function(event, name) {\n",
       "    var manager = IPython.notebook.keyboard_manager;\n",
       "    if (!manager)\n",
       "        manager = IPython.keyboard_manager;\n",
       "\n",
       "    // Check for shift+enter\n",
       "    if (event.shiftKey && event.which == 13) {\n",
       "        this.canvas_div.blur();\n",
       "        event.shiftKey = false;\n",
       "        // Send a \"J\" for go to next cell\n",
       "        event.which = 74;\n",
       "        event.keyCode = 74;\n",
       "        manager.command_mode();\n",
       "        manager.handle_keydown(event);\n",
       "    }\n",
       "}\n",
       "\n",
       "mpl.figure.prototype.handle_save = function(fig, msg) {\n",
       "    fig.ondownload(fig, null);\n",
       "}\n",
       "\n",
       "\n",
       "mpl.find_output_cell = function(html_output) {\n",
       "    // Return the cell and output element which can be found *uniquely* in the notebook.\n",
       "    // Note - this is a bit hacky, but it is done because the \"notebook_saving.Notebook\"\n",
       "    // IPython event is triggered only after the cells have been serialised, which for\n",
       "    // our purposes (turning an active figure into a static one), is too late.\n",
       "    var cells = IPython.notebook.get_cells();\n",
       "    var ncells = cells.length;\n",
       "    for (var i=0; i<ncells; i++) {\n",
       "        var cell = cells[i];\n",
       "        if (cell.cell_type === 'code'){\n",
       "            for (var j=0; j<cell.output_area.outputs.length; j++) {\n",
       "                var data = cell.output_area.outputs[j];\n",
       "                if (data.data) {\n",
       "                    // IPython >= 3 moved mimebundle to data attribute of output\n",
       "                    data = data.data;\n",
       "                }\n",
       "                if (data['text/html'] == html_output) {\n",
       "                    return [cell, data, j];\n",
       "                }\n",
       "            }\n",
       "        }\n",
       "    }\n",
       "}\n",
       "\n",
       "// Register the function which deals with the matplotlib target/channel.\n",
       "// The kernel may be null if the page has been refreshed.\n",
       "if (IPython.notebook.kernel != null) {\n",
       "    IPython.notebook.kernel.comm_manager.register_target('matplotlib', mpl.mpl_figure_comm);\n",
       "}\n"
      ],
      "text/plain": [
       "<IPython.core.display.Javascript object>"
      ]
     },
     "metadata": {},
     "output_type": "display_data"
    },
    {
     "data": {
      "text/html": [
       "<img src=\"data:image/png;base64,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\" width=\"639.9999861283738\">"
      ],
      "text/plain": [
       "<IPython.core.display.HTML object>"
      ]
     },
     "metadata": {},
     "output_type": "display_data"
    }
   ],
   "source": [
    "%matplotlib notebook\n",
    "\n",
    "plt.plot(np.linspace(0, 1, 11), DIs, marker='o')\n",
    "plt.plot([0, 1], [1, 1], 'g')\n",
    "plt.plot([0, 1], [0.8, 0.8], 'r')\n",
    "plt.ylim([0.4, 1.2])\n",
    "plt.ylabel('Disparate Impact (DI)')\n",
    "plt.xlabel('repair level')\n",
    "plt.show()"
   ]
  },
  {
   "cell_type": "markdown",
   "metadata": {},
   "source": [
    "    References:\n",
    "        .. [1] M. Feldman, S. A. Friedler, J. Moeller, C. Scheidegger, and\n",
    "           S. Venkatasubramanian, \"Certifying and removing disparate impact.\"\n",
    "           ACM SIGKDD International Conference on Knowledge Discovery and Data\n",
    "           Mining, 2015."
   ]
  },
  {
   "cell_type": "code",
   "execution_count": null,
   "metadata": {},
   "outputs": [],
   "source": []
  }
 ],
 "metadata": {
  "kernelspec": {
   "display_name": "Python 3",
   "language": "python",
   "name": "python3"
  },
  "language_info": {
   "codemirror_mode": {
    "name": "ipython",
    "version": 3
   },
   "file_extension": ".py",
   "mimetype": "text/x-python",
   "name": "python",
   "nbconvert_exporter": "python",
   "pygments_lexer": "ipython3",
   "version": "3.7.1"
  }
 },
 "nbformat": 4,
 "nbformat_minor": 2
}
